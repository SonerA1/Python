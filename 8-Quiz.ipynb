{
 "cells": [
  {
   "cell_type": "code",
   "execution_count": 1,
   "id": "7eeb39e9-6832-4e03-a388-c5ca9ef7c6a8",
   "metadata": {
    "tags": []
   },
   "outputs": [
    {
     "data": {
      "text/plain": [
       "True"
      ]
     },
     "execution_count": 1,
     "metadata": {},
     "output_type": "execute_result"
    }
   ],
   "source": [
    "# 1) Asagidaki string'in 5. harfini bir degiskene atayiniz\n",
    "my_string = \"Python Ogreniyorum\"\n",
    "newString = myString[]\n",
    "#cevap\n",
    "# 2) Asagidaki String'in 5. ve 8. karakteri arasindaki tum harflerini yazdiriniz (5 ve 8 dahil)\n",
    "my_new_string = \"ProgramlamayaMerhabaDedik\"\n",
    "#cevap\n",
    "#cevap\n",
    "# 3) Asagidaki String'i kod ile tersten yazin\n",
    "my_last_string = \"Afyonkarahisarlilastiramadiklarimizdanmisiniz\"\n",
    "#cevap\n",
    "#cevap\n",
    "# 4) Asagidaki islemin sonucu hangi veri tipinde olacaktir?\n",
    "4 + 12.2 + 48\n",
    "\n",
    "#cevap\n",
    "#cevap\n",
    "# 5) Asagidaki islemin sonucu kactir?\n",
    "5 + 7 * 12\n",
    "\n",
    "#cevap\n",
    "#cevap\n",
    "# 6) Bu listeyi en az 2 farkli yoldan olusturunuz: [1,3,\"a\"]\n",
    "#cevap\n",
    "#cevap\n",
    "#cevap\n",
    "# 7) Asagidaki \"b\"'yi tek satirda aliniz:\n",
    "my_list = [3.14,4,[2,3,\"b\"],True]\n",
    "#cevap\n",
    "#cevap\n",
    "#cevap\n",
    "# 8) Asagidaki \"a\"'yi tek satirda aliniz:\n",
    "my_dictionary = {\"key1\":20.25, \"kk2\":[40,{\"k21\":\"a\"}]}\n",
    "#cevap\n",
    "#cevap\n",
    "# 9) Asagidaki liste set'e cevirilince hangi degerler icinde kalacaktir?\n",
    "my_list_to_be_set = [3,4,9,3,21,22,4,3,9,10,21,22]\n",
    "#cevap\n",
    "#cevap\n",
    "# 10) Asagidaki ifadenin sonucu ne olacaktir?\n",
    "x = 30 * 5 + 3\n",
    "y = 108 - 2 * 4\n",
    "x > y\n",
    "\n",
    "#cevap\n",
    "#cevap\n",
    "#cevap"
   ]
  },
  {
   "cell_type": "code",
   "execution_count": null,
   "id": "5b82dad9-68bd-4776-afcd-6a2ea8033353",
   "metadata": {},
   "outputs": [],
   "source": []
  }
 ],
 "metadata": {
  "kernelspec": {
   "display_name": "Python 3 (ipykernel)",
   "language": "python",
   "name": "python3"
  },
  "language_info": {
   "codemirror_mode": {
    "name": "ipython",
    "version": 3
   },
   "file_extension": ".py",
   "mimetype": "text/x-python",
   "name": "python",
   "nbconvert_exporter": "python",
   "pygments_lexer": "ipython3",
   "version": "3.11.4"
  }
 },
 "nbformat": 4,
 "nbformat_minor": 5
}
