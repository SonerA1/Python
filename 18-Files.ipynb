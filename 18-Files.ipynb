{
 "cells": [
  {
   "cell_type": "code",
   "execution_count": 2,
   "id": "7f0da24c-ed50-4656-8f78-7975a733a3c8",
   "metadata": {
    "tags": []
   },
   "outputs": [],
   "source": [
    "#%%writefile myfile.txt"
   ]
  },
  {
   "cell_type": "code",
   "execution_count": 4,
   "id": "c09e5ae5-4301-4078-b17e-12aac664851c",
   "metadata": {
    "tags": []
   },
   "outputs": [
    {
     "name": "stdout",
     "output_type": "stream",
     "text": [
      "Writing myfile.txt\n"
     ]
    }
   ],
   "source": [
    "%%writefile myfile.txt\n",
    "test 1\n",
    "test 2\n",
    "test 3"
   ]
  },
  {
   "cell_type": "code",
   "execution_count": 5,
   "id": "eda8b0a8-9301-49c9-a177-cda3b4e42afe",
   "metadata": {
    "tags": []
   },
   "outputs": [],
   "source": [
    "#myFile = open"
   ]
  },
  {
   "cell_type": "code",
   "execution_count": 6,
   "id": "02240288-aced-44b7-bc83-376db698ac84",
   "metadata": {
    "tags": []
   },
   "outputs": [],
   "source": [
    "myFile = open(\"myfile.txt\")"
   ]
  },
  {
   "cell_type": "code",
   "execution_count": 7,
   "id": "316ae72f-a37c-4d53-b881-2cd0beced39f",
   "metadata": {
    "tags": []
   },
   "outputs": [
    {
     "data": {
      "text/plain": [
       "_io.TextIOWrapper"
      ]
     },
     "execution_count": 7,
     "metadata": {},
     "output_type": "execute_result"
    }
   ],
   "source": [
    "type(myFile)"
   ]
  },
  {
   "cell_type": "code",
   "execution_count": 8,
   "id": "6511c293-f45d-4b37-97dc-2fb88a6ab37e",
   "metadata": {
    "tags": []
   },
   "outputs": [
    {
     "data": {
      "text/plain": [
       "'test 1\\ntest 2\\ntest 3\\n'"
      ]
     },
     "execution_count": 8,
     "metadata": {},
     "output_type": "execute_result"
    }
   ],
   "source": [
    "myFile.read()"
   ]
  },
  {
   "cell_type": "code",
   "execution_count": 9,
   "id": "796b1bb1-6fe2-4910-9da2-7e7d3f886556",
   "metadata": {
    "tags": []
   },
   "outputs": [
    {
     "data": {
      "text/plain": [
       "''"
      ]
     },
     "execution_count": 9,
     "metadata": {},
     "output_type": "execute_result"
    }
   ],
   "source": [
    "myFile.read()"
   ]
  },
  {
   "cell_type": "code",
   "execution_count": 10,
   "id": "9c41daaa-cbdc-49db-b3d7-32e21954aec7",
   "metadata": {
    "tags": []
   },
   "outputs": [
    {
     "data": {
      "text/plain": [
       "0"
      ]
     },
     "execution_count": 10,
     "metadata": {},
     "output_type": "execute_result"
    }
   ],
   "source": [
    "myFile.seek(0)"
   ]
  },
  {
   "cell_type": "code",
   "execution_count": 11,
   "id": "616b1d22-9660-41d0-8d03-0bea756e1be5",
   "metadata": {
    "tags": []
   },
   "outputs": [
    {
     "data": {
      "text/plain": [
       "'test 1\\ntest 2\\ntest 3\\n'"
      ]
     },
     "execution_count": 11,
     "metadata": {},
     "output_type": "execute_result"
    }
   ],
   "source": [
    "myFile.read()"
   ]
  },
  {
   "cell_type": "code",
   "execution_count": 12,
   "id": "f35c4903-0f50-4983-be5d-4c0ecbc1acdd",
   "metadata": {
    "tags": []
   },
   "outputs": [],
   "source": [
    "myFile.close()"
   ]
  },
  {
   "cell_type": "code",
   "execution_count": 13,
   "id": "f1aea33b-9a3b-4c42-ba3e-33f79906d5b6",
   "metadata": {
    "tags": []
   },
   "outputs": [],
   "source": [
    "#with"
   ]
  },
  {
   "cell_type": "code",
   "execution_count": 14,
   "id": "905fe294-77ee-46eb-b506-b83ff5e3c56c",
   "metadata": {
    "tags": []
   },
   "outputs": [],
   "source": [
    "with open(\"myfile.txt\") as myFile:\n",
    "    myContent = myFile.read()"
   ]
  },
  {
   "cell_type": "code",
   "execution_count": 15,
   "id": "1c715cbe-9a95-474f-83ff-1ba28998cc43",
   "metadata": {
    "tags": []
   },
   "outputs": [
    {
     "data": {
      "text/plain": [
       "'test 1\\ntest 2\\ntest 3\\n'"
      ]
     },
     "execution_count": 15,
     "metadata": {},
     "output_type": "execute_result"
    }
   ],
   "source": [
    "myContent"
   ]
  },
  {
   "cell_type": "code",
   "execution_count": 16,
   "id": "df7d051b-b87c-4697-9bd9-dbabbb65183d",
   "metadata": {
    "tags": []
   },
   "outputs": [
    {
     "data": {
      "text/plain": [
       "'test 1\\ntest 2\\ntest 3\\n'"
      ]
     },
     "execution_count": 16,
     "metadata": {},
     "output_type": "execute_result"
    }
   ],
   "source": [
    "myContent"
   ]
  },
  {
   "cell_type": "code",
   "execution_count": 34,
   "id": "a19de15f-0140-4101-b900-4156c4690fab",
   "metadata": {
    "tags": []
   },
   "outputs": [],
   "source": [
    "with open(\"myfile.txt\",mode=\"w\")as myNewFile:\n",
    "    myNewFile.write(\"test 4\")"
   ]
  },
  {
   "cell_type": "code",
   "execution_count": 35,
   "id": "0472f3ea-0158-4a79-ae62-31a40f627ff7",
   "metadata": {
    "tags": []
   },
   "outputs": [
    {
     "data": {
      "text/plain": [
       "<_io.TextIOWrapper name='myfile.txt' mode='w' encoding='cp65001'>"
      ]
     },
     "execution_count": 35,
     "metadata": {},
     "output_type": "execute_result"
    }
   ],
   "source": [
    "myNewFile"
   ]
  },
  {
   "cell_type": "code",
   "execution_count": 36,
   "id": "839ccf51-73c8-4143-8dd6-62d827bc101b",
   "metadata": {
    "tags": []
   },
   "outputs": [],
   "source": [
    "with open(\"myfile.txt\",mode=\"r\") as myFile2:\n",
    "    myContent = myFile2.read()"
   ]
  },
  {
   "cell_type": "code",
   "execution_count": 37,
   "id": "6a5ea6c8-b324-4e6a-9b34-3e1ccb9efeb5",
   "metadata": {
    "tags": []
   },
   "outputs": [
    {
     "data": {
      "text/plain": [
       "'test 4'"
      ]
     },
     "execution_count": 37,
     "metadata": {},
     "output_type": "execute_result"
    }
   ],
   "source": [
    "myContent"
   ]
  },
  {
   "cell_type": "code",
   "execution_count": 38,
   "id": "d4550467-78e0-4b34-9442-e41125283101",
   "metadata": {
    "tags": []
   },
   "outputs": [],
   "source": [
    "# w-> write, r -> read, a-> append"
   ]
  },
  {
   "cell_type": "code",
   "execution_count": 39,
   "id": "7b769e80-577f-42f9-8c90-724eb6a2c7e8",
   "metadata": {
    "tags": []
   },
   "outputs": [],
   "source": [
    "with open(\"myfile.txt\",mode=\"a\") as myFile3:\n",
    "       myFile3.write(\"test 5\")"
   ]
  },
  {
   "cell_type": "code",
   "execution_count": 40,
   "id": "7a6cfb62-3592-4f71-87fe-baf6c2d632bc",
   "metadata": {
    "tags": []
   },
   "outputs": [],
   "source": [
    "with open(\"myfile.txt\",mode=\"r\") as myFile4:\n",
    "    myContent = myFile4.read()"
   ]
  },
  {
   "cell_type": "code",
   "execution_count": 41,
   "id": "e0de7262-38a1-4b97-bce2-fd5abe22486c",
   "metadata": {
    "tags": []
   },
   "outputs": [
    {
     "data": {
      "text/plain": [
       "'test 4test 5'"
      ]
     },
     "execution_count": 41,
     "metadata": {},
     "output_type": "execute_result"
    }
   ],
   "source": [
    "myContent"
   ]
  },
  {
   "cell_type": "code",
   "execution_count": null,
   "id": "4d9492f6-e3c4-474b-b546-e1aa2537f39f",
   "metadata": {},
   "outputs": [],
   "source": []
  }
 ],
 "metadata": {
  "kernelspec": {
   "display_name": "Python 3 (ipykernel)",
   "language": "python",
   "name": "python3"
  },
  "language_info": {
   "codemirror_mode": {
    "name": "ipython",
    "version": 3
   },
   "file_extension": ".py",
   "mimetype": "text/x-python",
   "name": "python",
   "nbconvert_exporter": "python",
   "pygments_lexer": "ipython3",
   "version": "3.11.4"
  }
 },
 "nbformat": 4,
 "nbformat_minor": 5
}
