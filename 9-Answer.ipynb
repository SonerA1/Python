{
 "cells": [
  {
   "cell_type": "code",
   "execution_count": 1,
   "id": "33c07932-7cf7-4f60-942d-7d6fcb8bc367",
   "metadata": {
    "tags": []
   },
   "outputs": [],
   "source": [
    "# 1) Asagidaki string'in 5. harfini bir degiskene atayiniz\n",
    "my_string = \"Python Ogreniyorum\""
   ]
  },
  {
   "cell_type": "code",
   "execution_count": 60,
   "id": "4d22faf6-072a-4d29-a9a6-169dfa50e491",
   "metadata": {
    "tags": []
   },
   "outputs": [],
   "source": [
    "newString = my_string[4]"
   ]
  },
  {
   "cell_type": "code",
   "execution_count": 61,
   "id": "1f300106-563b-4631-a727-34e3be5508af",
   "metadata": {
    "tags": []
   },
   "outputs": [
    {
     "data": {
      "text/plain": [
       "'o'"
      ]
     },
     "execution_count": 61,
     "metadata": {},
     "output_type": "execute_result"
    }
   ],
   "source": [
    "newString"
   ]
  },
  {
   "cell_type": "code",
   "execution_count": 8,
   "id": "0f875415-cd97-48dd-9e40-1d18bdd1133a",
   "metadata": {
    "tags": []
   },
   "outputs": [],
   "source": [
    "# 2) Asagidaki String'in 5. ve 8. karakteri arasindaki tum harflerini yazdiriniz (5 ve 8 dahil)\n",
    "my_new_string = \"ProgramlamayaMerhabaDedik\""
   ]
  },
  {
   "cell_type": "code",
   "execution_count": 10,
   "id": "653034c9-c7f5-432c-99ab-f8666dbff570",
   "metadata": {
    "tags": []
   },
   "outputs": [
    {
     "data": {
      "text/plain": [
       "'ProgramlamayaMerhabaDedik'"
      ]
     },
     "execution_count": 10,
     "metadata": {},
     "output_type": "execute_result"
    }
   ],
   "source": [
    "my_new_string[::]"
   ]
  },
  {
   "cell_type": "code",
   "execution_count": 62,
   "id": "2f572d6e-b7f6-406f-8b40-917d5ea1b41a",
   "metadata": {
    "tags": []
   },
   "outputs": [
    {
     "data": {
      "text/plain": [
       "'raml'"
      ]
     },
     "execution_count": 62,
     "metadata": {},
     "output_type": "execute_result"
    }
   ],
   "source": [
    "my_new_string[4:8:]"
   ]
  },
  {
   "cell_type": "code",
   "execution_count": 13,
   "id": "25411b3d-f404-43b3-a157-dbb7baff56b6",
   "metadata": {
    "tags": []
   },
   "outputs": [],
   "source": [
    "# 3) Asagidaki String'i kod ile tersten yazin\n",
    "my_last_string = \"Afyonkarahisarlilastiramadiklarimizdanmisiniz\""
   ]
  },
  {
   "cell_type": "code",
   "execution_count": 14,
   "id": "e2b42945-85a9-41fb-81cf-32d1947e4fe3",
   "metadata": {
    "tags": []
   },
   "outputs": [
    {
     "data": {
      "text/plain": [
       "'Afyonkarahisarlilastiramadiklarimizdanmisiniz'"
      ]
     },
     "execution_count": 14,
     "metadata": {},
     "output_type": "execute_result"
    }
   ],
   "source": [
    "my_last_string"
   ]
  },
  {
   "cell_type": "code",
   "execution_count": 15,
   "id": "2c011b23-b5b2-47f0-b600-3b93297e8aa9",
   "metadata": {
    "tags": []
   },
   "outputs": [
    {
     "name": "stdout",
     "output_type": "stream",
     "text": [
      "zinisimnadzimiralkidamaritsalilrasiharaknoyfA\n"
     ]
    }
   ],
   "source": [
    "print(my_last_string[::-1])"
   ]
  },
  {
   "cell_type": "code",
   "execution_count": 26,
   "id": "e0371b07-d6ad-4311-9195-a1b4f96d5d79",
   "metadata": {
    "tags": []
   },
   "outputs": [],
   "source": [
    "# 4) Asagidaki islemin sonucu hangi veri tipinde olacaktir?\n",
    "a = 4 + 12.2 + 48"
   ]
  },
  {
   "cell_type": "code",
   "execution_count": 27,
   "id": "61ae9ca7-9bed-4adc-aa89-5e08146d0c02",
   "metadata": {
    "tags": []
   },
   "outputs": [
    {
     "data": {
      "text/plain": [
       "64.2"
      ]
     },
     "execution_count": 27,
     "metadata": {},
     "output_type": "execute_result"
    }
   ],
   "source": [
    "a"
   ]
  },
  {
   "cell_type": "code",
   "execution_count": 28,
   "id": "739ea308-df02-4c34-9a9e-ec69bdf35eeb",
   "metadata": {
    "tags": []
   },
   "outputs": [
    {
     "data": {
      "text/plain": [
       "float"
      ]
     },
     "execution_count": 28,
     "metadata": {},
     "output_type": "execute_result"
    }
   ],
   "source": [
    "type(a)"
   ]
  },
  {
   "cell_type": "code",
   "execution_count": 29,
   "id": "3ebcc937-9897-4264-85b7-0885d796c346",
   "metadata": {
    "tags": []
   },
   "outputs": [
    {
     "data": {
      "text/plain": [
       "89"
      ]
     },
     "execution_count": 29,
     "metadata": {},
     "output_type": "execute_result"
    }
   ],
   "source": [
    "# 5) Asagidaki islemin sonucu kactir?\n",
    "5 + 7 * 12"
   ]
  },
  {
   "cell_type": "code",
   "execution_count": 30,
   "id": "c72bc797-8aae-40a1-a3ea-d1bce9df2638",
   "metadata": {
    "tags": []
   },
   "outputs": [],
   "source": [
    "# 6) Bu listeyi en az 2 farkli yoldan olusturunuz: [1,3,\"a\"]"
   ]
  },
  {
   "cell_type": "code",
   "execution_count": 35,
   "id": "fe54e0ac-5b05-4540-9287-7736d539d6e5",
   "metadata": {
    "tags": []
   },
   "outputs": [],
   "source": [
    "myList = [1,3,\"a\"]"
   ]
  },
  {
   "cell_type": "code",
   "execution_count": 33,
   "id": "26c588ab-f2ad-444a-bd2b-510d121fdbfa",
   "metadata": {
    "tags": []
   },
   "outputs": [
    {
     "data": {
      "text/plain": [
       "[1, 3, 'a']"
      ]
     },
     "execution_count": 33,
     "metadata": {},
     "output_type": "execute_result"
    }
   ],
   "source": [
    "myList"
   ]
  },
  {
   "cell_type": "code",
   "execution_count": 36,
   "id": "525bfa0a-54f4-4757-9596-8ad75602a7ad",
   "metadata": {
    "tags": []
   },
   "outputs": [],
   "source": [
    "myList2 = {1,3,\"a\"}"
   ]
  },
  {
   "cell_type": "code",
   "execution_count": 37,
   "id": "1f3e8ceb-ce56-4d7d-8caf-95382f397e82",
   "metadata": {
    "tags": []
   },
   "outputs": [
    {
     "data": {
      "text/plain": [
       "[1, 3, 'a']"
      ]
     },
     "execution_count": 37,
     "metadata": {},
     "output_type": "execute_result"
    }
   ],
   "source": [
    "myList"
   ]
  },
  {
   "cell_type": "code",
   "execution_count": 38,
   "id": "89564776-bf56-4b99-b677-79aac7455871",
   "metadata": {
    "tags": []
   },
   "outputs": [
    {
     "data": {
      "text/plain": [
       "{1, 3, 'a'}"
      ]
     },
     "execution_count": 38,
     "metadata": {},
     "output_type": "execute_result"
    }
   ],
   "source": [
    "myList2"
   ]
  },
  {
   "cell_type": "code",
   "execution_count": 39,
   "id": "d873ae68-a042-4e48-8370-e329c06cda87",
   "metadata": {
    "tags": []
   },
   "outputs": [],
   "source": [
    "# 7) Asagidaki \"b\"'yi tek satirda aliniz:\n",
    "my_list = [3.14,4,[2,3,\"b\"],True]"
   ]
  },
  {
   "cell_type": "code",
   "execution_count": 45,
   "id": "d305d447-b5fe-4da0-8d79-a21f97318733",
   "metadata": {
    "tags": []
   },
   "outputs": [
    {
     "data": {
      "text/plain": [
       "'b'"
      ]
     },
     "execution_count": 45,
     "metadata": {},
     "output_type": "execute_result"
    }
   ],
   "source": [
    "my_list[2][2]"
   ]
  },
  {
   "cell_type": "code",
   "execution_count": 46,
   "id": "9001e5e6-b504-459d-95f9-8406221d9f1c",
   "metadata": {
    "tags": []
   },
   "outputs": [],
   "source": [
    "# 8) Asagidaki \"a\"'yi tek satirda aliniz:\n",
    "my_dictionary = {\"key1\":20.25, \"kk2\":[40,{\"k21\":\"a\"}]}"
   ]
  },
  {
   "cell_type": "code",
   "execution_count": 53,
   "id": "cb408b17-90af-498d-b3d9-c5d6d2fead99",
   "metadata": {
    "tags": []
   },
   "outputs": [
    {
     "data": {
      "text/plain": [
       "'a'"
      ]
     },
     "execution_count": 53,
     "metadata": {},
     "output_type": "execute_result"
    }
   ],
   "source": [
    "my_dictionary[\"kk2\"][1][\"k21\"]"
   ]
  },
  {
   "cell_type": "code",
   "execution_count": 54,
   "id": "4db82f1a-abac-4861-a777-6ca99b2de2d3",
   "metadata": {
    "tags": []
   },
   "outputs": [],
   "source": [
    "# 9) Asagidaki liste set'e cevirilince hangi degerler icinde kalacaktir?\n",
    "my_list_to_be_set = [3,4,9,3,21,22,4,3,9,10,21,22]"
   ]
  },
  {
   "cell_type": "code",
   "execution_count": 57,
   "id": "5d3c8e09-c965-470a-93c6-b9e414ed8518",
   "metadata": {
    "tags": []
   },
   "outputs": [],
   "source": [
    "mySet = set(my_list_to_be_set)"
   ]
  },
  {
   "cell_type": "code",
   "execution_count": 58,
   "id": "b7f3f1e2-6024-414c-b54c-50a33a65e7be",
   "metadata": {
    "tags": []
   },
   "outputs": [
    {
     "data": {
      "text/plain": [
       "{3, 4, 9, 10, 21, 22}"
      ]
     },
     "execution_count": 58,
     "metadata": {},
     "output_type": "execute_result"
    }
   ],
   "source": [
    "mySet"
   ]
  },
  {
   "cell_type": "code",
   "execution_count": 59,
   "id": "390c358a-8c8d-4053-9625-cc7e263f8701",
   "metadata": {
    "tags": []
   },
   "outputs": [
    {
     "data": {
      "text/plain": [
       "True"
      ]
     },
     "execution_count": 59,
     "metadata": {},
     "output_type": "execute_result"
    }
   ],
   "source": [
    "x = 30 * 5 + 3\n",
    "y = 108 - 2 * 4\n",
    "x > y"
   ]
  },
  {
   "cell_type": "code",
   "execution_count": null,
   "id": "2ad4d941-c593-47e6-b7d1-f78664319604",
   "metadata": {},
   "outputs": [],
   "source": []
  }
 ],
 "metadata": {
  "kernelspec": {
   "display_name": "Python 3 (ipykernel)",
   "language": "python",
   "name": "python3"
  },
  "language_info": {
   "codemirror_mode": {
    "name": "ipython",
    "version": 3
   },
   "file_extension": ".py",
   "mimetype": "text/x-python",
   "name": "python",
   "nbconvert_exporter": "python",
   "pygments_lexer": "ipython3",
   "version": "3.11.4"
  }
 },
 "nbformat": 4,
 "nbformat_minor": 5
}
