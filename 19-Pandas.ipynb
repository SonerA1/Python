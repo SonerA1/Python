{
 "cells": [
  {
   "cell_type": "code",
   "execution_count": 2,
   "id": "bfd6151e-f989-4aa2-9a77-12e384abd902",
   "metadata": {
    "tags": []
   },
   "outputs": [],
   "source": [
    "import pandas as pd\n",
    "import numpy as np"
   ]
  },
  {
   "cell_type": "code",
   "execution_count": 3,
   "id": "dd064bf4-732d-4c35-9917-7694a9a61000",
   "metadata": {
    "tags": []
   },
   "outputs": [],
   "source": [
    "#Series"
   ]
  },
  {
   "cell_type": "code",
   "execution_count": 4,
   "id": "b0d98acc-69b3-4ece-8e60-3322b5daa09d",
   "metadata": {
    "tags": []
   },
   "outputs": [],
   "source": [
    "my_dict = {\"james\" : 50, \"Alex\" : 60, \"smith\" : 55}"
   ]
  },
  {
   "cell_type": "code",
   "execution_count": 5,
   "id": "3e155287-9ca3-418d-ace7-70c6293b95d5",
   "metadata": {
    "tags": []
   },
   "outputs": [
    {
     "data": {
      "text/plain": [
       "james    50\n",
       "Alex     60\n",
       "smith    55\n",
       "dtype: int64"
      ]
     },
     "execution_count": 5,
     "metadata": {},
     "output_type": "execute_result"
    }
   ],
   "source": [
    "pd.Series(my_dict)"
   ]
  },
  {
   "cell_type": "code",
   "execution_count": 7,
   "id": "466f7eb8-5810-4201-aa3c-b10972ec8e59",
   "metadata": {
    "tags": []
   },
   "outputs": [],
   "source": [
    "age_list = [50,60,55]\n",
    "name_list = [\"james\",\"alex\",\"smit\"]"
   ]
  },
  {
   "cell_type": "code",
   "execution_count": 8,
   "id": "26889d91-3e30-4a08-9406-17f8c962ef11",
   "metadata": {
    "tags": []
   },
   "outputs": [
    {
     "data": {
      "text/plain": [
       "james    50\n",
       "alex     60\n",
       "smit     55\n",
       "dtype: int64"
      ]
     },
     "execution_count": 8,
     "metadata": {},
     "output_type": "execute_result"
    }
   ],
   "source": [
    "pd.Series(age_list, name_list)"
   ]
  },
  {
   "cell_type": "code",
   "execution_count": 9,
   "id": "c3d77203-5b5e-41f6-bf0d-c21b0ce3f7fb",
   "metadata": {
    "tags": []
   },
   "outputs": [
    {
     "data": {
      "text/plain": [
       "james    50\n",
       "alex     60\n",
       "smit     55\n",
       "dtype: int64"
      ]
     },
     "execution_count": 9,
     "metadata": {},
     "output_type": "execute_result"
    }
   ],
   "source": [
    "pd.Series(data=age_list, index=name_list)"
   ]
  },
  {
   "cell_type": "code",
   "execution_count": 10,
   "id": "1b07f223-bdb6-481f-9021-ef55ea01b132",
   "metadata": {
    "tags": []
   },
   "outputs": [],
   "source": [
    "numpy_array = np.arange(0,8)"
   ]
  },
  {
   "cell_type": "code",
   "execution_count": 11,
   "id": "2bef26a9-2c06-44a9-905a-ff3be0d1ec20",
   "metadata": {
    "tags": []
   },
   "outputs": [
    {
     "data": {
      "text/plain": [
       "array([0, 1, 2, 3, 4, 5, 6, 7])"
      ]
     },
     "execution_count": 11,
     "metadata": {},
     "output_type": "execute_result"
    }
   ],
   "source": [
    "numpy_array"
   ]
  },
  {
   "cell_type": "code",
   "execution_count": 12,
   "id": "a8efa9d2-b91a-4765-b980-c8c10ec59c09",
   "metadata": {
    "tags": []
   },
   "outputs": [
    {
     "data": {
      "text/plain": [
       "0    0\n",
       "1    1\n",
       "2    2\n",
       "3    3\n",
       "4    4\n",
       "5    5\n",
       "6    6\n",
       "7    7\n",
       "dtype: int32"
      ]
     },
     "execution_count": 12,
     "metadata": {},
     "output_type": "execute_result"
    }
   ],
   "source": [
    "pd.Series(numpy_array)"
   ]
  },
  {
   "cell_type": "code",
   "execution_count": 14,
   "id": "a89b2dad-8ca2-4a82-9958-f6dd25c0fc96",
   "metadata": {
    "tags": []
   },
   "outputs": [],
   "source": [
    "new_numpyArray = np.array([10,20,30])"
   ]
  },
  {
   "cell_type": "code",
   "execution_count": 15,
   "id": "1aaa7642-60e7-4933-92c6-6c437962b858",
   "metadata": {
    "tags": []
   },
   "outputs": [
    {
     "data": {
      "text/plain": [
       "0    10\n",
       "1    20\n",
       "2    30\n",
       "dtype: int32"
      ]
     },
     "execution_count": 15,
     "metadata": {},
     "output_type": "execute_result"
    }
   ],
   "source": [
    "pd.Series(new_numpyArray)"
   ]
  },
  {
   "cell_type": "code",
   "execution_count": 16,
   "id": "c96cb3dd-f413-4042-bf75-a488557d7c5e",
   "metadata": {
    "tags": []
   },
   "outputs": [
    {
     "data": {
      "text/plain": [
       "array([10, 20, 30])"
      ]
     },
     "execution_count": 16,
     "metadata": {},
     "output_type": "execute_result"
    }
   ],
   "source": [
    "new_numpyArray"
   ]
  },
  {
   "cell_type": "code",
   "execution_count": 17,
   "id": "40c9b28e-bd86-4565-951d-24c4f4525d01",
   "metadata": {
    "tags": []
   },
   "outputs": [
    {
     "data": {
      "text/plain": [
       "['james', 'alex', 'smit']"
      ]
     },
     "execution_count": 17,
     "metadata": {},
     "output_type": "execute_result"
    }
   ],
   "source": [
    "name_list"
   ]
  },
  {
   "cell_type": "code",
   "execution_count": 25,
   "id": "63c61d73-4f8f-493a-a3e5-71c95a2fec93",
   "metadata": {
    "tags": []
   },
   "outputs": [
    {
     "data": {
      "text/plain": [
       "james    10\n",
       "alex     20\n",
       "smit     30\n",
       "dtype: int32"
      ]
     },
     "execution_count": 25,
     "metadata": {},
     "output_type": "execute_result"
    }
   ],
   "source": [
    "pd.Series(data=new_numpyArray,index=name_list)"
   ]
  },
  {
   "cell_type": "code",
   "execution_count": 26,
   "id": "00d01672-7f53-486a-867c-dddfba5f9b23",
   "metadata": {
    "tags": []
   },
   "outputs": [],
   "source": [
    "my_series = pd.Series(data=new_numpyArray, index=name_list)"
   ]
  },
  {
   "cell_type": "code",
   "execution_count": 27,
   "id": "7443a7fb-0c10-401a-a064-a1263bc6213f",
   "metadata": {
    "tags": []
   },
   "outputs": [
    {
     "data": {
      "text/plain": [
       "pandas.core.series.Series"
      ]
     },
     "execution_count": 27,
     "metadata": {},
     "output_type": "execute_result"
    }
   ],
   "source": [
    "type(my_series)"
   ]
  },
  {
   "cell_type": "code",
   "execution_count": 28,
   "id": "51f51641-a667-486c-a120-197764dbfca9",
   "metadata": {
    "tags": []
   },
   "outputs": [
    {
     "data": {
      "text/plain": [
       "10"
      ]
     },
     "execution_count": 28,
     "metadata": {},
     "output_type": "execute_result"
    }
   ],
   "source": [
    "my_series [\"james\"]"
   ]
  },
  {
   "cell_type": "code",
   "execution_count": 30,
   "id": "e7dbed3c-249b-478e-9a79-e110a0756944",
   "metadata": {
    "tags": []
   },
   "outputs": [],
   "source": [
    "my_series [\"james\"] = 60"
   ]
  },
  {
   "cell_type": "code",
   "execution_count": 31,
   "id": "8a1d7a3d-9d6f-4918-a68d-8bf8a75a938e",
   "metadata": {
    "tags": []
   },
   "outputs": [
    {
     "data": {
      "text/plain": [
       "james    60\n",
       "alex     20\n",
       "smit     30\n",
       "dtype: int32"
      ]
     },
     "execution_count": 31,
     "metadata": {},
     "output_type": "execute_result"
    }
   ],
   "source": [
    "my_series"
   ]
  },
  {
   "cell_type": "code",
   "execution_count": 34,
   "id": "684c2210-ee52-4250-b505-ff8902a0b55d",
   "metadata": {
    "tags": []
   },
   "outputs": [],
   "source": [
    "quiz_result1 = pd.Series(data=[70,60,100],index=[\"A\",\"B\",\"C\"])"
   ]
  },
  {
   "cell_type": "code",
   "execution_count": 35,
   "id": "1ab92fc9-e2b7-4322-8308-d450e2831fa0",
   "metadata": {
    "tags": []
   },
   "outputs": [],
   "source": [
    "quiz_result2 = pd.Series(data=[80,30,50],index=[\"A\",\"B\",\"C\"])"
   ]
  },
  {
   "cell_type": "code",
   "execution_count": 36,
   "id": "65a661bf-d784-4517-95f9-a642f1257adb",
   "metadata": {
    "tags": []
   },
   "outputs": [
    {
     "data": {
      "text/plain": [
       "A     70\n",
       "B     60\n",
       "C    100\n",
       "dtype: int64"
      ]
     },
     "execution_count": 36,
     "metadata": {},
     "output_type": "execute_result"
    }
   ],
   "source": [
    "quiz_result1"
   ]
  },
  {
   "cell_type": "code",
   "execution_count": 37,
   "id": "ed5887e2-494c-4f5e-a513-1e800719b76b",
   "metadata": {
    "tags": []
   },
   "outputs": [
    {
     "data": {
      "text/plain": [
       "A    80\n",
       "B    30\n",
       "C    50\n",
       "dtype: int64"
      ]
     },
     "execution_count": 37,
     "metadata": {},
     "output_type": "execute_result"
    }
   ],
   "source": [
    "quiz_result2"
   ]
  },
  {
   "cell_type": "code",
   "execution_count": 38,
   "id": "0dcddcf2-5c12-415c-bab6-f56a181e0dea",
   "metadata": {
    "tags": []
   },
   "outputs": [
    {
     "data": {
      "text/plain": [
       "A    150\n",
       "B     90\n",
       "C    150\n",
       "dtype: int64"
      ]
     },
     "execution_count": 38,
     "metadata": {},
     "output_type": "execute_result"
    }
   ],
   "source": [
    "quiz_result1 + quiz_result2"
   ]
  },
  {
   "cell_type": "code",
   "execution_count": 41,
   "id": "cc66ee10-f30c-4fd3-9476-8eb344abd476",
   "metadata": {
    "tags": []
   },
   "outputs": [],
   "source": [
    "examResult1 = pd.Series(data=[70,60,100],index=[\"A\",\"B\",\"C\"])"
   ]
  },
  {
   "cell_type": "code",
   "execution_count": 43,
   "id": "44724f84-0b17-4eda-80e9-e1c401d4bdce",
   "metadata": {
    "tags": []
   },
   "outputs": [],
   "source": [
    "examResult2 = pd.Series(data=[80,30,50],index=[\"A\",\"D\",\"C\"])"
   ]
  },
  {
   "cell_type": "code",
   "execution_count": 44,
   "id": "d67954a2-519d-40eb-bc48-240b52132c5d",
   "metadata": {
    "tags": []
   },
   "outputs": [
    {
     "data": {
      "text/plain": [
       "A    150.0\n",
       "B      NaN\n",
       "C    150.0\n",
       "D      NaN\n",
       "dtype: float64"
      ]
     },
     "execution_count": 44,
     "metadata": {},
     "output_type": "execute_result"
    }
   ],
   "source": [
    "examResult1 + examResult2"
   ]
  },
  {
   "cell_type": "code",
   "execution_count": null,
   "id": "75f5ece8-a175-4205-9a12-e6cf99754032",
   "metadata": {},
   "outputs": [],
   "source": []
  }
 ],
 "metadata": {
  "kernelspec": {
   "display_name": "Python 3 (ipykernel)",
   "language": "python",
   "name": "python3"
  },
  "language_info": {
   "codemirror_mode": {
    "name": "ipython",
    "version": 3
   },
   "file_extension": ".py",
   "mimetype": "text/x-python",
   "name": "python",
   "nbconvert_exporter": "python",
   "pygments_lexer": "ipython3",
   "version": "3.11.4"
  }
 },
 "nbformat": 4,
 "nbformat_minor": 5
}
