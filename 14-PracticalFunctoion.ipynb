{
 "cells": [
  {
   "cell_type": "code",
   "execution_count": 2,
   "id": "91f60b73-c5aa-407a-bb31-b0079029a861",
   "metadata": {
    "tags": []
   },
   "outputs": [],
   "source": [
    "def divideNumber(number):\n",
    "    return number /2"
   ]
  },
  {
   "cell_type": "code",
   "execution_count": 3,
   "id": "8ac71cc8-872b-4b20-b03d-fd9c2aa9ebf9",
   "metadata": {
    "tags": []
   },
   "outputs": [
    {
     "data": {
      "text/plain": [
       "10.0"
      ]
     },
     "execution_count": 3,
     "metadata": {},
     "output_type": "execute_result"
    }
   ],
   "source": [
    "divideNumber(20)"
   ]
  },
  {
   "cell_type": "code",
   "execution_count": 4,
   "id": "5794f2d5-5337-4efe-a7a0-9210174a6ed3",
   "metadata": {
    "tags": []
   },
   "outputs": [],
   "source": [
    "myList= [3,5,7,10,20,30]"
   ]
  },
  {
   "cell_type": "code",
   "execution_count": 8,
   "id": "a7ff90ea-c907-4a13-afed-19337b440011",
   "metadata": {
    "tags": []
   },
   "outputs": [
    {
     "name": "stdout",
     "output_type": "stream",
     "text": [
      "[1.5, 2.5, 3.5, 5.0, 10.0, 15.0]\n"
     ]
    }
   ],
   "source": [
    "myResultList = []\n",
    "for num in myList:\n",
    "    myResultList.append(divideNumber(num))\n",
    "print(myResultList)"
   ]
  },
  {
   "cell_type": "code",
   "execution_count": 9,
   "id": "33bfe2db-f8ea-4322-8bc1-a309d7894be6",
   "metadata": {
    "tags": []
   },
   "outputs": [],
   "source": [
    "# -----MAP-----"
   ]
  },
  {
   "cell_type": "code",
   "execution_count": 10,
   "id": "6e728d37-c75a-4613-b965-64eacdf8b39a",
   "metadata": {
    "tags": []
   },
   "outputs": [
    {
     "name": "stdout",
     "output_type": "stream",
     "text": [
      "Help on class map in module builtins:\n",
      "\n",
      "class map(object)\n",
      " |  map(func, *iterables) --> map object\n",
      " |  \n",
      " |  Make an iterator that computes the function using arguments from\n",
      " |  each of the iterables.  Stops when the shortest iterable is exhausted.\n",
      " |  \n",
      " |  Methods defined here:\n",
      " |  \n",
      " |  __getattribute__(self, name, /)\n",
      " |      Return getattr(self, name).\n",
      " |  \n",
      " |  __iter__(self, /)\n",
      " |      Implement iter(self).\n",
      " |  \n",
      " |  __next__(self, /)\n",
      " |      Implement next(self).\n",
      " |  \n",
      " |  __reduce__(...)\n",
      " |      Return state information for pickling.\n",
      " |  \n",
      " |  ----------------------------------------------------------------------\n",
      " |  Static methods defined here:\n",
      " |  \n",
      " |  __new__(*args, **kwargs) from builtins.type\n",
      " |      Create and return a new object.  See help(type) for accurate signature.\n",
      "\n"
     ]
    }
   ],
   "source": [
    "help(map)"
   ]
  },
  {
   "cell_type": "code",
   "execution_count": 12,
   "id": "7e877fe3-9b9a-4bd3-9ce2-b72856c303c2",
   "metadata": {
    "tags": []
   },
   "outputs": [],
   "source": [
    "def controlString(string):\n",
    "    return \"soner\" in string"
   ]
  },
  {
   "cell_type": "code",
   "execution_count": 13,
   "id": "b6d5bb3e-52a2-4a1a-b70e-2bc3a1957973",
   "metadata": {
    "tags": []
   },
   "outputs": [
    {
     "data": {
      "text/plain": [
       "True"
      ]
     },
     "execution_count": 13,
     "metadata": {},
     "output_type": "execute_result"
    }
   ],
   "source": [
    "controlString(\"soner\")"
   ]
  },
  {
   "cell_type": "code",
   "execution_count": 14,
   "id": "0cb506b5-ee71-4941-9210-e8c9cc4c1f28",
   "metadata": {
    "tags": []
   },
   "outputs": [
    {
     "data": {
      "text/plain": [
       "False"
      ]
     },
     "execution_count": 14,
     "metadata": {},
     "output_type": "execute_result"
    }
   ],
   "source": [
    "controlString(\"aaaa\")"
   ]
  },
  {
   "cell_type": "code",
   "execution_count": 17,
   "id": "bd30ab9d-f319-4227-aef4-b12cd26d1634",
   "metadata": {
    "tags": []
   },
   "outputs": [],
   "source": [
    "myStringList = [\"soner\", \"java\", \"Python\", \"kotlin\",\"soner\"]"
   ]
  },
  {
   "cell_type": "code",
   "execution_count": 18,
   "id": "5a13dee9-9d07-4f1f-b779-0c335bb85a3a",
   "metadata": {
    "tags": []
   },
   "outputs": [
    {
     "data": {
      "text/plain": [
       "[True, False, False, False, True]"
      ]
     },
     "execution_count": 18,
     "metadata": {},
     "output_type": "execute_result"
    }
   ],
   "source": [
    "list(map(controlString,myStringList))"
   ]
  },
  {
   "cell_type": "code",
   "execution_count": 19,
   "id": "40772b72-6593-4cb2-84a6-6761d8d4321b",
   "metadata": {
    "tags": []
   },
   "outputs": [],
   "source": [
    "# ---Filter---"
   ]
  },
  {
   "cell_type": "code",
   "execution_count": 20,
   "id": "7ee820f2-c2ed-43ac-a4be-3bb0366cae63",
   "metadata": {
    "tags": []
   },
   "outputs": [
    {
     "data": {
      "text/plain": [
       "['soner', 'soner']"
      ]
     },
     "execution_count": 20,
     "metadata": {},
     "output_type": "execute_result"
    }
   ],
   "source": [
    "list(filter(controlString,myStringList))"
   ]
  },
  {
   "cell_type": "code",
   "execution_count": 21,
   "id": "1b4bb0b8-7483-4aac-83f7-d48c03019f9a",
   "metadata": {
    "tags": []
   },
   "outputs": [],
   "source": [
    "# ---Lambda---"
   ]
  },
  {
   "cell_type": "code",
   "execution_count": 22,
   "id": "88607bab-e9eb-4af8-80ab-1a336606ad79",
   "metadata": {
    "tags": []
   },
   "outputs": [],
   "source": [
    "multiplyLambda = lambda num: num * 3"
   ]
  },
  {
   "cell_type": "code",
   "execution_count": 23,
   "id": "1ce9fad9-c2af-48b5-bc00-9b1235c6e72d",
   "metadata": {
    "tags": []
   },
   "outputs": [
    {
     "data": {
      "text/plain": [
       "function"
      ]
     },
     "execution_count": 23,
     "metadata": {},
     "output_type": "execute_result"
    }
   ],
   "source": [
    "type(multiplyLambda)"
   ]
  },
  {
   "cell_type": "code",
   "execution_count": 24,
   "id": "82b8a263-c22c-4632-ae01-775f8dd31947",
   "metadata": {
    "tags": []
   },
   "outputs": [
    {
     "data": {
      "text/plain": [
       "60"
      ]
     },
     "execution_count": 24,
     "metadata": {},
     "output_type": "execute_result"
    }
   ],
   "source": [
    "multiplyLambda(20)"
   ]
  },
  {
   "cell_type": "code",
   "execution_count": 28,
   "id": "e909f19a-a084-4137-b200-2a915270ee35",
   "metadata": {
    "tags": []
   },
   "outputs": [],
   "source": [
    "result = multiplyLambda(10)"
   ]
  },
  {
   "cell_type": "code",
   "execution_count": 29,
   "id": "8fb3d1b7-8ff2-481c-a5b2-c7b952e16267",
   "metadata": {
    "tags": []
   },
   "outputs": [
    {
     "data": {
      "text/plain": [
       "30"
      ]
     },
     "execution_count": 29,
     "metadata": {},
     "output_type": "execute_result"
    }
   ],
   "source": [
    "result"
   ]
  },
  {
   "cell_type": "code",
   "execution_count": 30,
   "id": "5741b5a4-58d3-4662-be21-63dc954edb1f",
   "metadata": {
    "tags": []
   },
   "outputs": [],
   "source": [
    "numList = [10,20,30,40,50]"
   ]
  },
  {
   "cell_type": "code",
   "execution_count": 31,
   "id": "f21b5f4c-a83b-4d09-b712-9b96d4388cde",
   "metadata": {
    "tags": []
   },
   "outputs": [
    {
     "data": {
      "text/plain": [
       "[2.5, 5.0, 7.5, 10.0, 12.5]"
      ]
     },
     "execution_count": 31,
     "metadata": {},
     "output_type": "execute_result"
    }
   ],
   "source": [
    "list(map(lambda num:num/4,numList))"
   ]
  },
  {
   "cell_type": "code",
   "execution_count": 39,
   "id": "c448f386-483d-49e4-a3d3-175c6723cbba",
   "metadata": {
    "tags": []
   },
   "outputs": [],
   "source": [
    "# ----SCOPE----"
   ]
  },
  {
   "cell_type": "code",
   "execution_count": 32,
   "id": "bdcdb15d-e635-458a-be65-9a836956d700",
   "metadata": {
    "tags": []
   },
   "outputs": [],
   "source": [
    "x = 20\n",
    "def multiply(num):\n",
    "    x = 5\n",
    "    return num * x"
   ]
  },
  {
   "cell_type": "code",
   "execution_count": 33,
   "id": "a4f4f808-36ce-4fa5-931d-a7be8ef9fd5b",
   "metadata": {
    "tags": []
   },
   "outputs": [
    {
     "data": {
      "text/plain": [
       "50"
      ]
     },
     "execution_count": 33,
     "metadata": {},
     "output_type": "execute_result"
    }
   ],
   "source": [
    "multiply(10)"
   ]
  },
  {
   "cell_type": "code",
   "execution_count": 34,
   "id": "952924c1-97df-4a93-b53f-3ac259ea1bcc",
   "metadata": {
    "tags": []
   },
   "outputs": [
    {
     "name": "stdout",
     "output_type": "stream",
     "text": [
      "20\n"
     ]
    }
   ],
   "source": [
    "print(x)"
   ]
  },
  {
   "cell_type": "code",
   "execution_count": 35,
   "id": "2119163f-6851-4618-b5df-23be09a6db99",
   "metadata": {
    "tags": []
   },
   "outputs": [],
   "source": [
    "a = 10"
   ]
  },
  {
   "cell_type": "code",
   "execution_count": 36,
   "id": "ceb47762-9873-41cd-8a57-3043196d4986",
   "metadata": {
    "tags": []
   },
   "outputs": [
    {
     "data": {
      "text/plain": [
       "10"
      ]
     },
     "execution_count": 36,
     "metadata": {},
     "output_type": "execute_result"
    }
   ],
   "source": [
    "a"
   ]
  },
  {
   "cell_type": "code",
   "execution_count": 37,
   "id": "23b3767a-5c38-435e-80a1-5d7dd95482c1",
   "metadata": {
    "tags": []
   },
   "outputs": [],
   "source": [
    "a = 20"
   ]
  },
  {
   "cell_type": "code",
   "execution_count": 38,
   "id": "636e07b8-9ef4-4420-8f18-db617fe0d1d4",
   "metadata": {
    "tags": []
   },
   "outputs": [
    {
     "data": {
      "text/plain": [
       "20"
      ]
     },
     "execution_count": 38,
     "metadata": {},
     "output_type": "execute_result"
    }
   ],
   "source": [
    "a"
   ]
  },
  {
   "cell_type": "code",
   "execution_count": 40,
   "id": "ea3587b5-a5e7-4c8a-bde7-9b8401eec293",
   "metadata": {
    "tags": []
   },
   "outputs": [],
   "source": [
    "x = 20\n",
    "def multiply(num):\n",
    "    x = 5\n",
    "    return num * x"
   ]
  },
  {
   "cell_type": "code",
   "execution_count": 42,
   "id": "01ffbff2-1d08-4905-9189-1168643b4bab",
   "metadata": {
    "tags": []
   },
   "outputs": [
    {
     "data": {
      "text/plain": [
       "10"
      ]
     },
     "execution_count": 42,
     "metadata": {},
     "output_type": "execute_result"
    }
   ],
   "source": [
    "x"
   ]
  },
  {
   "cell_type": "code",
   "execution_count": 43,
   "id": "bdb4d3c4-ee5e-43e5-b73b-d123f77079a5",
   "metadata": {
    "tags": []
   },
   "outputs": [
    {
     "data": {
      "text/plain": [
       "15"
      ]
     },
     "execution_count": 43,
     "metadata": {},
     "output_type": "execute_result"
    }
   ],
   "source": [
    "multiply(3)"
   ]
  },
  {
   "cell_type": "code",
   "execution_count": 47,
   "id": "d69f7111-d637-478e-955c-1efa717965c5",
   "metadata": {
    "tags": []
   },
   "outputs": [],
   "source": [
    "x = 20\n",
    "def multiply(num): \n",
    "    return num * x"
   ]
  },
  {
   "cell_type": "code",
   "execution_count": 48,
   "id": "2b6381f1-6564-4812-9f75-7af715d1ed52",
   "metadata": {
    "tags": []
   },
   "outputs": [
    {
     "data": {
      "text/plain": [
       "200"
      ]
     },
     "execution_count": 48,
     "metadata": {},
     "output_type": "execute_result"
    }
   ],
   "source": [
    "multiply(10)"
   ]
  },
  {
   "cell_type": "code",
   "execution_count": 49,
   "id": "123d5839-504a-4f07-bb13-d3dc4e6778aa",
   "metadata": {
    "tags": []
   },
   "outputs": [],
   "source": [
    "# ----LEGB--- L-> local, E->Enclosing, G-> Global, B-> Built-in"
   ]
  },
  {
   "cell_type": "code",
   "execution_count": 68,
   "id": "36b5be49-d2c3-40e7-89d3-cca7a4a9b0bf",
   "metadata": {
    "tags": []
   },
   "outputs": [],
   "source": [
    "#Global\n",
    "myString = \"python\"\n",
    "\n",
    "def myFunc():\n",
    "    #Enclosing\n",
    "    myString = \"python2\"\n",
    "    print(myString)\n",
    "    \n",
    "    def myFunc2():\n",
    "        #Local\n",
    "        myString = \"python3\"\n",
    "        print(myString)\n",
    "        \n",
    "    myFunc2()"
   ]
  },
  {
   "cell_type": "code",
   "execution_count": 64,
   "id": "7732a061-807f-4a44-8a27-526836ba7877",
   "metadata": {
    "tags": []
   },
   "outputs": [
    {
     "data": {
      "text/plain": [
       "'python'"
      ]
     },
     "execution_count": 64,
     "metadata": {},
     "output_type": "execute_result"
    }
   ],
   "source": [
    "myString"
   ]
  },
  {
   "cell_type": "code",
   "execution_count": 65,
   "id": "110f32c7-a370-4a32-8c99-0eb4e92a17d4",
   "metadata": {
    "tags": []
   },
   "outputs": [
    {
     "name": "stdout",
     "output_type": "stream",
     "text": [
      "python2\n",
      "python3\n"
     ]
    }
   ],
   "source": [
    "myFunc()"
   ]
  },
  {
   "cell_type": "code",
   "execution_count": 66,
   "id": "bf05c85c-6d3b-4501-af8e-41d788f793a7",
   "metadata": {
    "tags": []
   },
   "outputs": [
    {
     "data": {
      "text/plain": [
       "'python'"
      ]
     },
     "execution_count": 66,
     "metadata": {},
     "output_type": "execute_result"
    }
   ],
   "source": [
    "myString"
   ]
  },
  {
   "cell_type": "code",
   "execution_count": null,
   "id": "4bcc35aa-b17c-4931-8051-264fbcbee925",
   "metadata": {},
   "outputs": [],
   "source": []
  }
 ],
 "metadata": {
  "kernelspec": {
   "display_name": "Python 3 (ipykernel)",
   "language": "python",
   "name": "python3"
  },
  "language_info": {
   "codemirror_mode": {
    "name": "ipython",
    "version": 3
   },
   "file_extension": ".py",
   "mimetype": "text/x-python",
   "name": "python",
   "nbconvert_exporter": "python",
   "pygments_lexer": "ipython3",
   "version": "3.11.4"
  }
 },
 "nbformat": 4,
 "nbformat_minor": 5
}
