{
 "cells": [
  {
   "cell_type": "code",
   "execution_count": 1,
   "id": "33bcb6f8-9651-4f33-a486-ebdb612a3936",
   "metadata": {
    "tags": []
   },
   "outputs": [],
   "source": [
    "# ---Inheritance---"
   ]
  },
  {
   "cell_type": "code",
   "execution_count": 9,
   "id": "d5ff6323-8b7b-4a3f-8986-0e931e9f99ef",
   "metadata": {
    "tags": []
   },
   "outputs": [],
   "source": [
    "class Musician():\n",
    "    \n",
    "    def __init__(self,name):\n",
    "        self.name = name\n",
    "        print(\"musician class\")\n",
    "        \n",
    "    def test1(self):\n",
    "        print(\"test1\")\n",
    "    \n",
    "    def test2(self):\n",
    "        print(\"test2\")       "
   ]
  },
  {
   "cell_type": "code",
   "execution_count": 10,
   "id": "18924d56-6780-4a74-8f9c-de9cbb2d1297",
   "metadata": {
    "tags": []
   },
   "outputs": [
    {
     "name": "stdout",
     "output_type": "stream",
     "text": [
      "musician class\n"
     ]
    }
   ],
   "source": [
    "mike = Musician(\"mike\")"
   ]
  },
  {
   "cell_type": "code",
   "execution_count": 11,
   "id": "2e751d8d-fd78-475e-8622-18f48d8292fc",
   "metadata": {
    "tags": []
   },
   "outputs": [
    {
     "data": {
      "text/plain": [
       "'mike'"
      ]
     },
     "execution_count": 11,
     "metadata": {},
     "output_type": "execute_result"
    }
   ],
   "source": [
    "mike.name"
   ]
  },
  {
   "cell_type": "code",
   "execution_count": 13,
   "id": "2025f586-0972-4c69-867f-e99aa4d5393a",
   "metadata": {
    "tags": []
   },
   "outputs": [
    {
     "name": "stdout",
     "output_type": "stream",
     "text": [
      "test1\n"
     ]
    }
   ],
   "source": [
    "mike.test1()"
   ]
  },
  {
   "cell_type": "code",
   "execution_count": 14,
   "id": "a4c1a09c-462b-432a-9925-6458ead4f036",
   "metadata": {
    "tags": []
   },
   "outputs": [
    {
     "name": "stdout",
     "output_type": "stream",
     "text": [
      "test2\n"
     ]
    }
   ],
   "source": [
    "mike.test2()"
   ]
  },
  {
   "cell_type": "code",
   "execution_count": 37,
   "id": "b896fcec-ce6a-4c17-8b12-50c5c86c8adf",
   "metadata": {
    "tags": []
   },
   "outputs": [],
   "source": [
    "class MusicianPlus(Musician):\n",
    "    \n",
    "    def __init__(self,name):\n",
    "        Musician.__init__(self,name)\n",
    "        print(\"musician plus\")\n",
    "        \n",
    "    def test3(self):\n",
    "        print(\"test3\")"
   ]
  },
  {
   "cell_type": "code",
   "execution_count": 38,
   "id": "f8aad70e-849b-4651-b2da-5eec726d7601",
   "metadata": {
    "tags": []
   },
   "outputs": [
    {
     "name": "stdout",
     "output_type": "stream",
     "text": [
      "musician class\n",
      "musician plus\n"
     ]
    }
   ],
   "source": [
    "alex = MusicianPlus(\"Alex\")"
   ]
  },
  {
   "cell_type": "code",
   "execution_count": 39,
   "id": "c3dbf6ef-37ef-461c-8d3a-5bdc993a6ffd",
   "metadata": {
    "tags": []
   },
   "outputs": [
    {
     "name": "stdout",
     "output_type": "stream",
     "text": [
      "test1\n"
     ]
    }
   ],
   "source": [
    "alex.test1()"
   ]
  },
  {
   "cell_type": "code",
   "execution_count": 40,
   "id": "dbf02e3d-d353-43f5-a66a-743968b1b868",
   "metadata": {
    "tags": []
   },
   "outputs": [
    {
     "data": {
      "text/plain": [
       "__main__.MusicianPlus"
      ]
     },
     "execution_count": 40,
     "metadata": {},
     "output_type": "execute_result"
    }
   ],
   "source": [
    "type(alex)"
   ]
  },
  {
   "cell_type": "code",
   "execution_count": 41,
   "id": "53630810-c9c6-4435-8d20-cf60b60b20ca",
   "metadata": {
    "tags": []
   },
   "outputs": [],
   "source": [
    "# -----Polymorphism------"
   ]
  },
  {
   "cell_type": "code",
   "execution_count": 50,
   "id": "0cc1306c-18c3-4de5-919f-e775d4f07db9",
   "metadata": {
    "tags": []
   },
   "outputs": [],
   "source": [
    "class Banana():\n",
    "    \n",
    "    def __init__(self,name):\n",
    "        self.name = name\n",
    "        \n",
    "    def info(self):\n",
    "        return f\"100 calories {self.name}\"\n",
    "    \n",
    "class Apple():\n",
    "    \n",
    "    def __init__(self,name):\n",
    "        self.name = name\n",
    "    \n",
    "    def info(self):\n",
    "        return f\"150 calories {self.name}\""
   ]
  },
  {
   "cell_type": "code",
   "execution_count": 51,
   "id": "3f717a49-3692-498a-9c65-90d0bf721d2d",
   "metadata": {
    "tags": []
   },
   "outputs": [],
   "source": [
    "banana = Banana(\"banana\")"
   ]
  },
  {
   "cell_type": "code",
   "execution_count": 52,
   "id": "e2975d7f-83ba-46fc-8ab2-42105718b239",
   "metadata": {
    "tags": []
   },
   "outputs": [],
   "source": [
    "apple = Apple(\"apple\")"
   ]
  },
  {
   "cell_type": "code",
   "execution_count": 53,
   "id": "3f7fbd8f-ea4d-4d5e-8dc4-78aba098db9e",
   "metadata": {
    "tags": []
   },
   "outputs": [
    {
     "data": {
      "text/plain": [
       "'100 calories banana'"
      ]
     },
     "execution_count": 53,
     "metadata": {},
     "output_type": "execute_result"
    }
   ],
   "source": [
    "banana.info()"
   ]
  },
  {
   "cell_type": "code",
   "execution_count": 54,
   "id": "746d2c7d-0eec-4785-a76d-9129e4ff8190",
   "metadata": {
    "tags": []
   },
   "outputs": [
    {
     "data": {
      "text/plain": [
       "'150 calories apple'"
      ]
     },
     "execution_count": 54,
     "metadata": {},
     "output_type": "execute_result"
    }
   ],
   "source": [
    "apple.info()"
   ]
  },
  {
   "cell_type": "code",
   "execution_count": 55,
   "id": "77574c7b-35f8-44e1-ab36-07d3ce60eeb4",
   "metadata": {
    "tags": []
   },
   "outputs": [],
   "source": [
    "fruitList = [banana,apple]"
   ]
  },
  {
   "cell_type": "code",
   "execution_count": 56,
   "id": "45761969-3d5b-4062-a4c2-45c3c5615875",
   "metadata": {
    "tags": []
   },
   "outputs": [
    {
     "name": "stdout",
     "output_type": "stream",
     "text": [
      "100 calories banana\n",
      "150 calories apple\n"
     ]
    }
   ],
   "source": [
    "for fruit in fruitList:\n",
    "    print(fruit.info())"
   ]
  },
  {
   "cell_type": "code",
   "execution_count": 57,
   "id": "11b81ea2-f0fc-4f10-86ae-42ffe3f4a098",
   "metadata": {
    "tags": []
   },
   "outputs": [],
   "source": [
    "# ------Encapsulation------"
   ]
  },
  {
   "cell_type": "code",
   "execution_count": 85,
   "id": "ec93ed8d-6cdb-4af1-83e0-9fb6fee89f8b",
   "metadata": {
    "tags": []
   },
   "outputs": [],
   "source": [
    "class Phone():\n",
    "    \n",
    "    def __init__(self,name,price):\n",
    "        self.name = name\n",
    "        self.__price = price #__ encapsulation\n",
    "        \n",
    "    def info(self):\n",
    "        print(f\"{self.name} price is: {self.__price}\")\n",
    "    \n",
    "    def changePrice(self,price):\n",
    "        self.__price = price"
   ]
  },
  {
   "cell_type": "code",
   "execution_count": 86,
   "id": "aee6c1c8-f958-495e-87f0-4b9986c1b77b",
   "metadata": {
    "tags": []
   },
   "outputs": [],
   "source": [
    "iphone = Phone(\"İphone 14\",500)"
   ]
  },
  {
   "cell_type": "code",
   "execution_count": 87,
   "id": "df94532d-4129-4246-8313-1a84b88dca8d",
   "metadata": {
    "tags": []
   },
   "outputs": [
    {
     "name": "stdout",
     "output_type": "stream",
     "text": [
      "İphone 14 price is: 500\n"
     ]
    }
   ],
   "source": [
    "iphone.info()"
   ]
  },
  {
   "cell_type": "code",
   "execution_count": 88,
   "id": "5bdee152-f5c2-47f5-9f2d-ef023dfe1651",
   "metadata": {
    "tags": []
   },
   "outputs": [],
   "source": [
    "iphone.__price = 400"
   ]
  },
  {
   "cell_type": "code",
   "execution_count": 89,
   "id": "fa4366be-69d9-4d91-91ea-b1b1eb0a6674",
   "metadata": {
    "tags": []
   },
   "outputs": [],
   "source": [
    "iphone.price = 400"
   ]
  },
  {
   "cell_type": "code",
   "execution_count": 90,
   "id": "a3d6d443-0a7c-4c34-a904-a8b190e15e2f",
   "metadata": {
    "tags": []
   },
   "outputs": [
    {
     "name": "stdout",
     "output_type": "stream",
     "text": [
      "İphone 14 price is: 500\n"
     ]
    }
   ],
   "source": [
    "iphone.info()"
   ]
  },
  {
   "cell_type": "code",
   "execution_count": 92,
   "id": "96af6478-5c00-4965-a5ed-6249c8de0af0",
   "metadata": {
    "tags": []
   },
   "outputs": [],
   "source": [
    "iphone.changePrice(300)"
   ]
  },
  {
   "cell_type": "code",
   "execution_count": 93,
   "id": "9b2e41c4-0ba8-47fd-9227-e22165f4d6bc",
   "metadata": {
    "tags": []
   },
   "outputs": [
    {
     "name": "stdout",
     "output_type": "stream",
     "text": [
      "İphone 14 price is: 300\n"
     ]
    }
   ],
   "source": [
    "iphone.info()"
   ]
  },
  {
   "cell_type": "code",
   "execution_count": 94,
   "id": "6b2b6fd5-c137-4fbf-b891-4cc0383b080b",
   "metadata": {
    "tags": []
   },
   "outputs": [],
   "source": [
    "# ---Abstaction---"
   ]
  },
  {
   "cell_type": "code",
   "execution_count": 95,
   "id": "afefcd9c-f4f9-4919-b594-8e9557234b2b",
   "metadata": {
    "tags": []
   },
   "outputs": [],
   "source": [
    "from abc import ABC, abstractmethod"
   ]
  },
  {
   "cell_type": "code",
   "execution_count": 96,
   "id": "f83f4eca-4ef9-4c60-aa61-f06150e00d35",
   "metadata": {
    "tags": []
   },
   "outputs": [],
   "source": [
    "class Car(ABC):\n",
    "    \n",
    "    @abstractmethod\n",
    "    def maxSpeed():\n",
    "        pass"
   ]
  },
  {
   "cell_type": "code",
   "execution_count": 98,
   "id": "d96eca33-fd6c-49c6-ae56-89a3abde0bac",
   "metadata": {
    "tags": []
   },
   "outputs": [],
   "source": [
    "#myCar = Car()"
   ]
  },
  {
   "cell_type": "code",
   "execution_count": 101,
   "id": "17990671-44a9-4c00-932d-eb8b76b9b69b",
   "metadata": {
    "tags": []
   },
   "outputs": [],
   "source": [
    "class Tesla(Car):\n",
    "    def maxSpeed(self):\n",
    "        print(\"200km\")"
   ]
  },
  {
   "cell_type": "code",
   "execution_count": 102,
   "id": "e321f586-834a-494f-b29b-e732a205e841",
   "metadata": {
    "tags": []
   },
   "outputs": [],
   "source": [
    "tesla = Tesla()"
   ]
  },
  {
   "cell_type": "code",
   "execution_count": 103,
   "id": "0c4cf033-dab5-4c89-a187-6dfeed1e7b46",
   "metadata": {
    "tags": []
   },
   "outputs": [
    {
     "name": "stdout",
     "output_type": "stream",
     "text": [
      "200km\n"
     ]
    }
   ],
   "source": [
    "tesla.maxSpeed()"
   ]
  },
  {
   "cell_type": "code",
   "execution_count": 105,
   "id": "6219cf8e-b996-4cf2-9c14-48deb4040626",
   "metadata": {
    "tags": []
   },
   "outputs": [],
   "source": [
    "class Mercedes(Car):\n",
    "    def maxSpeed(self):\n",
    "        print(\"250\")"
   ]
  },
  {
   "cell_type": "code",
   "execution_count": 106,
   "id": "42b0b615-9dd1-4503-b942-c58a3048f495",
   "metadata": {
    "tags": []
   },
   "outputs": [],
   "source": [
    "mercedes = Mercedes()"
   ]
  },
  {
   "cell_type": "code",
   "execution_count": 108,
   "id": "89d3e7e2-c90e-441a-90af-86516a0b0757",
   "metadata": {
    "tags": []
   },
   "outputs": [
    {
     "name": "stdout",
     "output_type": "stream",
     "text": [
      "250\n"
     ]
    }
   ],
   "source": [
    "mercedes.maxSpeed()"
   ]
  },
  {
   "cell_type": "code",
   "execution_count": 125,
   "id": "03a57fa8-4749-4c4d-af1e-fb0501f90160",
   "metadata": {
    "tags": []
   },
   "outputs": [],
   "source": [
    "class Fruit():\n",
    "    \n",
    "    def __init__(self,name,calories):\n",
    "        self.name = name\n",
    "        self.calories = calories\n",
    "        \n",
    "    def __str__(self):\n",
    "        return f\"{self.name}: {self.calories} calories\"\n",
    "    \n",
    "    def __len__(self):\n",
    "        return self.calories"
   ]
  },
  {
   "cell_type": "code",
   "execution_count": 126,
   "id": "4db53f7a-aee1-4367-b1bf-b810efcd4991",
   "metadata": {
    "tags": []
   },
   "outputs": [],
   "source": [
    "myFruit = Fruit(\"banana\",150)"
   ]
  },
  {
   "cell_type": "code",
   "execution_count": 127,
   "id": "c861c187-06e5-45a6-93e0-114cc108b3b5",
   "metadata": {
    "tags": []
   },
   "outputs": [
    {
     "data": {
      "text/plain": [
       "150"
      ]
     },
     "execution_count": 127,
     "metadata": {},
     "output_type": "execute_result"
    }
   ],
   "source": [
    "myFruit.calories"
   ]
  },
  {
   "cell_type": "code",
   "execution_count": 128,
   "id": "972534d7-d40e-48cb-8ea4-eb69f47ebd98",
   "metadata": {
    "tags": []
   },
   "outputs": [
    {
     "data": {
      "text/plain": [
       "'banana'"
      ]
     },
     "execution_count": 128,
     "metadata": {},
     "output_type": "execute_result"
    }
   ],
   "source": [
    "myFruit.name"
   ]
  },
  {
   "cell_type": "code",
   "execution_count": 129,
   "id": "8efe335c-1a21-49d7-8e45-caca2322028f",
   "metadata": {
    "tags": []
   },
   "outputs": [
    {
     "name": "stdout",
     "output_type": "stream",
     "text": [
      "banana: 150 calories\n"
     ]
    }
   ],
   "source": [
    "print(myFruit)"
   ]
  },
  {
   "cell_type": "code",
   "execution_count": 131,
   "id": "ed28e6bd-4d89-442f-9ed6-a5cd8a3fe4c1",
   "metadata": {
    "tags": []
   },
   "outputs": [
    {
     "data": {
      "text/plain": [
       "150"
      ]
     },
     "execution_count": 131,
     "metadata": {},
     "output_type": "execute_result"
    }
   ],
   "source": [
    "len(myFruit)"
   ]
  },
  {
   "cell_type": "code",
   "execution_count": 132,
   "id": "091b03e0-70c7-4fc9-8e80-294e378fe1eb",
   "metadata": {
    "tags": []
   },
   "outputs": [],
   "source": [
    "class Train():\n",
    "    \n",
    "    def __init__(self,name):\n",
    "        self.name = name\n",
    "        \n",
    "    def __getitem__(self,key):\n",
    "        if key == \"a\":\n",
    "            return self.name\n",
    "        else:\n",
    "            return \"Not found\""
   ]
  },
  {
   "cell_type": "code",
   "execution_count": 133,
   "id": "0d69d525-74b3-44f4-9014-ff2ca673b890",
   "metadata": {
    "tags": []
   },
   "outputs": [],
   "source": [
    "myTrain = Train(\"myTrain\")"
   ]
  },
  {
   "cell_type": "code",
   "execution_count": 134,
   "id": "e0e7a67f-06a5-4961-94d8-0550e3fa62c2",
   "metadata": {
    "tags": []
   },
   "outputs": [
    {
     "data": {
      "text/plain": [
       "'myTrain'"
      ]
     },
     "execution_count": 134,
     "metadata": {},
     "output_type": "execute_result"
    }
   ],
   "source": [
    "myTrain[\"a\"]"
   ]
  },
  {
   "cell_type": "code",
   "execution_count": 136,
   "id": "42d1b01f-c667-4448-9f03-485d33973208",
   "metadata": {
    "tags": []
   },
   "outputs": [
    {
     "data": {
      "text/plain": [
       "'Not found'"
      ]
     },
     "execution_count": 136,
     "metadata": {},
     "output_type": "execute_result"
    }
   ],
   "source": [
    "myTrain[\"b\"]"
   ]
  }
 ],
 "metadata": {
  "kernelspec": {
   "display_name": "Python 3 (ipykernel)",
   "language": "python",
   "name": "python3"
  },
  "language_info": {
   "codemirror_mode": {
    "name": "ipython",
    "version": 3
   },
   "file_extension": ".py",
   "mimetype": "text/x-python",
   "name": "python",
   "nbconvert_exporter": "python",
   "pygments_lexer": "ipython3",
   "version": "3.11.4"
  }
 },
 "nbformat": 4,
 "nbformat_minor": 5
}
