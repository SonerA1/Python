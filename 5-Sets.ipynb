{
 "cells": [
  {
   "cell_type": "code",
   "execution_count": 1,
   "id": "efd39f0b-c2bb-48bf-bcf7-9278509b02ad",
   "metadata": {
    "tags": []
   },
   "outputs": [],
   "source": [
    "# -------Sets-------"
   ]
  },
  {
   "cell_type": "code",
   "execution_count": 2,
   "id": "3e0ad4d2-05a7-480c-891f-d03089fa37a4",
   "metadata": {
    "tags": []
   },
   "outputs": [],
   "source": [
    "#uniqe elements, unordered"
   ]
  },
  {
   "cell_type": "code",
   "execution_count": 3,
   "id": "1a09c81e-4c5c-455b-bdc2-e9d1b3d9a98c",
   "metadata": {
    "tags": []
   },
   "outputs": [],
   "source": [
    "myList = [10,20,30,10,20,40,10,20,40]"
   ]
  },
  {
   "cell_type": "code",
   "execution_count": 4,
   "id": "4e7bd510-ac3d-4cb3-8f7f-a23a81b47025",
   "metadata": {
    "tags": []
   },
   "outputs": [
    {
     "data": {
      "text/plain": [
       "9"
      ]
     },
     "execution_count": 4,
     "metadata": {},
     "output_type": "execute_result"
    }
   ],
   "source": [
    "len(myList)"
   ]
  },
  {
   "cell_type": "code",
   "execution_count": 5,
   "id": "751952fd-caff-4368-b480-34d61483eee1",
   "metadata": {
    "tags": []
   },
   "outputs": [
    {
     "data": {
      "text/plain": [
       "[10, 20, 30, 10, 20, 40, 10, 20, 40]"
      ]
     },
     "execution_count": 5,
     "metadata": {},
     "output_type": "execute_result"
    }
   ],
   "source": [
    "myList"
   ]
  },
  {
   "cell_type": "code",
   "execution_count": 6,
   "id": "ebfa9538-750f-4884-94a2-8d2d6e78d417",
   "metadata": {
    "tags": []
   },
   "outputs": [],
   "source": [
    "mySet = set(myList)"
   ]
  },
  {
   "cell_type": "code",
   "execution_count": 7,
   "id": "0585c7ee-f085-467d-85d7-12f5dba199aa",
   "metadata": {
    "tags": []
   },
   "outputs": [
    {
     "data": {
      "text/plain": [
       "{10, 20, 30, 40}"
      ]
     },
     "execution_count": 7,
     "metadata": {},
     "output_type": "execute_result"
    }
   ],
   "source": [
    "mySet"
   ]
  },
  {
   "cell_type": "code",
   "execution_count": 8,
   "id": "93c052d5-389b-4700-a81f-1b2c8327a031",
   "metadata": {
    "tags": []
   },
   "outputs": [],
   "source": [
    "mySet = {10,20,30,10,20,40,10,20,40}"
   ]
  },
  {
   "cell_type": "code",
   "execution_count": 9,
   "id": "572b04fb-a16e-4e19-9160-6515f5f201ff",
   "metadata": {
    "tags": []
   },
   "outputs": [
    {
     "data": {
      "text/plain": [
       "{10, 20, 30, 40}"
      ]
     },
     "execution_count": 9,
     "metadata": {},
     "output_type": "execute_result"
    }
   ],
   "source": [
    "mySet"
   ]
  },
  {
   "cell_type": "code",
   "execution_count": 10,
   "id": "421c066e-fe99-49df-9c96-6cb659652f8b",
   "metadata": {
    "tags": []
   },
   "outputs": [],
   "source": [
    "mySet.add(10)"
   ]
  },
  {
   "cell_type": "code",
   "execution_count": 11,
   "id": "8a9b634a-1f86-4b70-9103-be6c19c4133a",
   "metadata": {
    "tags": []
   },
   "outputs": [
    {
     "data": {
      "text/plain": [
       "{10, 20, 30, 40}"
      ]
     },
     "execution_count": 11,
     "metadata": {},
     "output_type": "execute_result"
    }
   ],
   "source": [
    "mySet"
   ]
  },
  {
   "cell_type": "code",
   "execution_count": 12,
   "id": "26f8f101-cc53-4b2b-94e3-f4dd03d87e3e",
   "metadata": {
    "tags": []
   },
   "outputs": [],
   "source": [
    "mySet.add(50)"
   ]
  },
  {
   "cell_type": "code",
   "execution_count": 13,
   "id": "b40fa1b2-830b-49ff-aa9c-93b5ca5b99e8",
   "metadata": {
    "tags": []
   },
   "outputs": [
    {
     "data": {
      "text/plain": [
       "{10, 20, 30, 40, 50}"
      ]
     },
     "execution_count": 13,
     "metadata": {},
     "output_type": "execute_result"
    }
   ],
   "source": [
    "mySet"
   ]
  },
  {
   "cell_type": "code",
   "execution_count": 14,
   "id": "110102a2-bfc4-495a-9b7e-c20d016b2177",
   "metadata": {
    "tags": []
   },
   "outputs": [],
   "source": [
    "mySet2 = {30,40,50,60,70}"
   ]
  },
  {
   "cell_type": "code",
   "execution_count": 15,
   "id": "8525d822-f080-4212-b6a3-b6fadeaaab76",
   "metadata": {
    "tags": []
   },
   "outputs": [
    {
     "data": {
      "text/plain": [
       "{10, 20, 30, 40, 50, 60, 70}"
      ]
     },
     "execution_count": 15,
     "metadata": {},
     "output_type": "execute_result"
    }
   ],
   "source": [
    "mySet.union(mySet2)"
   ]
  },
  {
   "cell_type": "code",
   "execution_count": 16,
   "id": "e6677ed5-dbb2-4885-9ecb-9e57ce6b048d",
   "metadata": {
    "tags": []
   },
   "outputs": [
    {
     "data": {
      "text/plain": [
       "{30, 40, 50}"
      ]
     },
     "execution_count": 16,
     "metadata": {},
     "output_type": "execute_result"
    }
   ],
   "source": [
    "mySet.intersection(mySet2)"
   ]
  },
  {
   "cell_type": "code",
   "execution_count": 17,
   "id": "23c2778c-ba5d-4e47-b0ec-87bdfc1f8b85",
   "metadata": {
    "tags": []
   },
   "outputs": [],
   "source": [
    "countryList = [\"de\",\"fr\",\"tr\",\"fr\",\"tr\",\"tr\",\"de\",\"nl\",\"de\",\"tr\"]"
   ]
  },
  {
   "cell_type": "code",
   "execution_count": 18,
   "id": "625cfe3e-a79b-4505-8edb-ff9ef7b96403",
   "metadata": {
    "tags": []
   },
   "outputs": [
    {
     "data": {
      "text/plain": [
       "4"
      ]
     },
     "execution_count": 18,
     "metadata": {},
     "output_type": "execute_result"
    }
   ],
   "source": [
    "len(set(countryList))"
   ]
  },
  {
   "cell_type": "code",
   "execution_count": 19,
   "id": "f0022b61-df0d-4915-b6bc-6276d1028013",
   "metadata": {
    "tags": []
   },
   "outputs": [
    {
     "data": {
      "text/plain": [
       "10"
      ]
     },
     "execution_count": 19,
     "metadata": {},
     "output_type": "execute_result"
    }
   ],
   "source": [
    "len(countryList)"
   ]
  },
  {
   "cell_type": "code",
   "execution_count": 20,
   "id": "850110a9-06d0-4b23-ab5a-e242c49cef13",
   "metadata": {
    "tags": []
   },
   "outputs": [],
   "source": [
    "emptyList = []"
   ]
  },
  {
   "cell_type": "code",
   "execution_count": 21,
   "id": "336f94f7-68bc-4026-9648-ae33e96a68c5",
   "metadata": {
    "tags": []
   },
   "outputs": [],
   "source": [
    "emptyList.append(10)\n",
    "emptyList.append(20)\n",
    "emptyList.append(30)"
   ]
  },
  {
   "cell_type": "code",
   "execution_count": 22,
   "id": "f14f2ac6-8a0c-4f0d-8062-f2acaac9404f",
   "metadata": {
    "tags": []
   },
   "outputs": [
    {
     "data": {
      "text/plain": [
       "[10, 20, 30]"
      ]
     },
     "execution_count": 22,
     "metadata": {},
     "output_type": "execute_result"
    }
   ],
   "source": [
    "emptyList"
   ]
  },
  {
   "cell_type": "code",
   "execution_count": 23,
   "id": "1e4d4472-56d5-4b84-a5d0-1811fd4119a9",
   "metadata": {
    "tags": []
   },
   "outputs": [
    {
     "data": {
      "text/plain": [
       "list"
      ]
     },
     "execution_count": 23,
     "metadata": {},
     "output_type": "execute_result"
    }
   ],
   "source": [
    "type(emptyList)"
   ]
  },
  {
   "cell_type": "code",
   "execution_count": 24,
   "id": "ee88d569-e54c-4fe0-b551-a95eeeb3fc88",
   "metadata": {
    "tags": []
   },
   "outputs": [],
   "source": [
    "emptySet = {}"
   ]
  },
  {
   "cell_type": "code",
   "execution_count": 25,
   "id": "40c8d95d-50f3-47f6-8fc2-9781ce0e76ec",
   "metadata": {
    "tags": []
   },
   "outputs": [
    {
     "data": {
      "text/plain": [
       "dict"
      ]
     },
     "execution_count": 25,
     "metadata": {},
     "output_type": "execute_result"
    }
   ],
   "source": [
    "type(emptySet)"
   ]
  },
  {
   "cell_type": "code",
   "execution_count": 26,
   "id": "18955f0b-fa3d-4207-9e68-929ab2433668",
   "metadata": {
    "tags": []
   },
   "outputs": [],
   "source": [
    "emptySet = set()"
   ]
  },
  {
   "cell_type": "code",
   "execution_count": 27,
   "id": "362e4b5e-33c1-4d0d-8415-a17d0300233c",
   "metadata": {
    "tags": []
   },
   "outputs": [
    {
     "data": {
      "text/plain": [
       "set"
      ]
     },
     "execution_count": 27,
     "metadata": {},
     "output_type": "execute_result"
    }
   ],
   "source": [
    "type(emptySet)"
   ]
  },
  {
   "cell_type": "code",
   "execution_count": 28,
   "id": "2493d8b9-625e-42ea-88a2-25cb3b92c244",
   "metadata": {
    "tags": []
   },
   "outputs": [
    {
     "data": {
      "text/plain": [
       "0"
      ]
     },
     "execution_count": 28,
     "metadata": {},
     "output_type": "execute_result"
    }
   ],
   "source": [
    "len(emptySet)"
   ]
  },
  {
   "cell_type": "code",
   "execution_count": 30,
   "id": "42d37e1f-ac16-49e7-8828-08b664461147",
   "metadata": {
    "tags": []
   },
   "outputs": [],
   "source": [
    "emptySet.add(10)\n",
    "emptySet.add(20)\n",
    "emptySet.add(30)"
   ]
  },
  {
   "cell_type": "code",
   "execution_count": 31,
   "id": "953c2ec9-232f-4d67-b264-21b158fa1d5a",
   "metadata": {
    "tags": []
   },
   "outputs": [
    {
     "data": {
      "text/plain": [
       "{10, 20, 30}"
      ]
     },
     "execution_count": 31,
     "metadata": {},
     "output_type": "execute_result"
    }
   ],
   "source": [
    "emptySet"
   ]
  },
  {
   "cell_type": "code",
   "execution_count": 32,
   "id": "740b5160-d8a4-4537-beb5-0fcdd9f6a9eb",
   "metadata": {
    "tags": []
   },
   "outputs": [],
   "source": [
    "emptyList = list()"
   ]
  },
  {
   "cell_type": "code",
   "execution_count": 33,
   "id": "fcce625b-9c46-43a1-8b3f-b8ff8abf0b6c",
   "metadata": {
    "tags": []
   },
   "outputs": [],
   "source": [
    "emptyList.append(10)\n",
    "emptyList.append(20)\n",
    "emptyList.append(30)"
   ]
  },
  {
   "cell_type": "code",
   "execution_count": 34,
   "id": "d236f646-3eca-4b31-9fbe-175c2a9eaa4a",
   "metadata": {
    "tags": []
   },
   "outputs": [
    {
     "data": {
      "text/plain": [
       "[10, 20, 30]"
      ]
     },
     "execution_count": 34,
     "metadata": {},
     "output_type": "execute_result"
    }
   ],
   "source": [
    "emptyList"
   ]
  },
  {
   "cell_type": "code",
   "execution_count": null,
   "id": "52ebbb04-e085-4af3-87bf-b86ad68fe256",
   "metadata": {},
   "outputs": [],
   "source": []
  }
 ],
 "metadata": {
  "kernelspec": {
   "display_name": "Python 3 (ipykernel)",
   "language": "python",
   "name": "python3"
  },
  "language_info": {
   "codemirror_mode": {
    "name": "ipython",
    "version": 3
   },
   "file_extension": ".py",
   "mimetype": "text/x-python",
   "name": "python",
   "nbconvert_exporter": "python",
   "pygments_lexer": "ipython3",
   "version": "3.11.4"
  }
 },
 "nbformat": 4,
 "nbformat_minor": 5
}
