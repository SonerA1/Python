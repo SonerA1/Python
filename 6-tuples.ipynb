{
 "cells": [
  {
   "cell_type": "code",
   "execution_count": 1,
   "id": "eb8cc819-3fce-4057-a6fe-8f8b62be161d",
   "metadata": {
    "tags": []
   },
   "outputs": [],
   "source": [
    "# ----Tuples----"
   ]
  },
  {
   "cell_type": "code",
   "execution_count": 2,
   "id": "4d99ab9a-7cad-4910-8a9d-226fd809c9d7",
   "metadata": {
    "tags": []
   },
   "outputs": [],
   "source": [
    "myList = [10,\"a\",\"b\",3.14]"
   ]
  },
  {
   "cell_type": "code",
   "execution_count": 3,
   "id": "82ffba35-6c8b-4f20-90cf-186ec4b7e9de",
   "metadata": {
    "tags": []
   },
   "outputs": [
    {
     "data": {
      "text/plain": [
       "10"
      ]
     },
     "execution_count": 3,
     "metadata": {},
     "output_type": "execute_result"
    }
   ],
   "source": [
    "myList[0]"
   ]
  },
  {
   "cell_type": "code",
   "execution_count": 4,
   "id": "88c6f96e-89b4-4112-9e03-ad136c1d50eb",
   "metadata": {
    "tags": []
   },
   "outputs": [],
   "source": [
    "myList[0] = 100"
   ]
  },
  {
   "cell_type": "code",
   "execution_count": 5,
   "id": "0217ad68-babe-4736-9bcc-1a0eb40f5c65",
   "metadata": {
    "tags": []
   },
   "outputs": [
    {
     "data": {
      "text/plain": [
       "[100, 'a', 'b', 3.14]"
      ]
     },
     "execution_count": 5,
     "metadata": {},
     "output_type": "execute_result"
    }
   ],
   "source": [
    "myList"
   ]
  },
  {
   "cell_type": "code",
   "execution_count": 6,
   "id": "2e1b29f4-0905-4cef-9c4e-80e454867dd2",
   "metadata": {
    "tags": []
   },
   "outputs": [],
   "source": [
    "#tuple"
   ]
  },
  {
   "cell_type": "code",
   "execution_count": null,
   "id": "fc52daf1-bc46-4c56-a694-665f8ce57806",
   "metadata": {},
   "outputs": [],
   "source": []
  },
  {
   "cell_type": "code",
   "execution_count": 7,
   "id": "ff7b8cd1-3a35-40e3-8384-7b07cdacf841",
   "metadata": {
    "tags": []
   },
   "outputs": [],
   "source": [
    "myTuple = (10,\"a\",\"b\",3.14)"
   ]
  },
  {
   "cell_type": "code",
   "execution_count": 9,
   "id": "8ce7a90e-4be0-4e9e-b3a6-778b5f7bef6e",
   "metadata": {
    "tags": []
   },
   "outputs": [
    {
     "data": {
      "text/plain": [
       "tuple"
      ]
     },
     "execution_count": 9,
     "metadata": {},
     "output_type": "execute_result"
    }
   ],
   "source": [
    "type(myTuple)"
   ]
  },
  {
   "cell_type": "code",
   "execution_count": 11,
   "id": "61f557fa-ac7e-473c-99c5-4c76454bd0c4",
   "metadata": {
    "tags": []
   },
   "outputs": [
    {
     "data": {
      "text/plain": [
       "10"
      ]
     },
     "execution_count": 11,
     "metadata": {},
     "output_type": "execute_result"
    }
   ],
   "source": [
    "myTuple[0]"
   ]
  },
  {
   "cell_type": "code",
   "execution_count": 12,
   "id": "60e966eb-900c-447f-93cb-5346dcdedd1a",
   "metadata": {
    "tags": []
   },
   "outputs": [],
   "source": [
    "#myTyple[0] = 100 immutability"
   ]
  },
  {
   "cell_type": "code",
   "execution_count": 13,
   "id": "d79444ea-e378-47d3-8a1d-603a01ba36e7",
   "metadata": {
    "tags": []
   },
   "outputs": [
    {
     "data": {
      "text/plain": [
       "1"
      ]
     },
     "execution_count": 13,
     "metadata": {},
     "output_type": "execute_result"
    }
   ],
   "source": [
    "myTuple.index(\"a\")"
   ]
  },
  {
   "cell_type": "code",
   "execution_count": 14,
   "id": "a2a3a6c6-7a0b-4c77-a845-a9b583b7b4c1",
   "metadata": {
    "tags": []
   },
   "outputs": [
    {
     "data": {
      "text/plain": [
       "1"
      ]
     },
     "execution_count": 14,
     "metadata": {},
     "output_type": "execute_result"
    }
   ],
   "source": [
    "myTuple.count(\"a\")"
   ]
  },
  {
   "cell_type": "code",
   "execution_count": null,
   "id": "db42266f-4d99-4ffa-927c-4d6d19dd1b80",
   "metadata": {},
   "outputs": [],
   "source": []
  }
 ],
 "metadata": {
  "kernelspec": {
   "display_name": "Python 3 (ipykernel)",
   "language": "python",
   "name": "python3"
  },
  "language_info": {
   "codemirror_mode": {
    "name": "ipython",
    "version": 3
   },
   "file_extension": ".py",
   "mimetype": "text/x-python",
   "name": "python",
   "nbconvert_exporter": "python",
   "pygments_lexer": "ipython3",
   "version": "3.11.4"
  }
 },
 "nbformat": 4,
 "nbformat_minor": 5
}
