{
 "cells": [
  {
   "cell_type": "code",
   "execution_count": 1,
   "id": "bbf486ac-7abc-44f7-9a35-48cf43e140c9",
   "metadata": {
    "tags": []
   },
   "outputs": [
    {
     "data": {
      "text/plain": [
       "'hello World'"
      ]
     },
     "execution_count": 1,
     "metadata": {},
     "output_type": "execute_result"
    }
   ],
   "source": [
    "\"hello World\""
   ]
  },
  {
   "cell_type": "code",
   "execution_count": 2,
   "id": "491a39a3-7809-4895-9e94-c4d1f9c7bcbe",
   "metadata": {
    "tags": []
   },
   "outputs": [
    {
     "data": {
      "text/plain": [
       "<function print(*args, sep=' ', end='\\n', file=None, flush=False)>"
      ]
     },
     "execution_count": 2,
     "metadata": {},
     "output_type": "execute_result"
    }
   ],
   "source": [
    "print"
   ]
  },
  {
   "cell_type": "code",
   "execution_count": 4,
   "id": "80c36b7d-b954-436f-9da2-1b6786b95e12",
   "metadata": {
    "tags": []
   },
   "outputs": [
    {
     "name": "stdout",
     "output_type": "stream",
     "text": [
      "hello python\n"
     ]
    }
   ],
   "source": [
    "print(\"hello python\")"
   ]
  },
  {
   "cell_type": "code",
   "execution_count": 5,
   "id": "b19a63d4-a2f0-4e11-83f6-97d53851c66f",
   "metadata": {
    "tags": []
   },
   "outputs": [
    {
     "ename": "NameError",
     "evalue": "name 'soner' is not defined",
     "output_type": "error",
     "traceback": [
      "\u001b[1;31m---------------------------------------------------------------------------\u001b[0m",
      "\u001b[1;31mNameError\u001b[0m                                 Traceback (most recent call last)",
      "Cell \u001b[1;32mIn[5], line 1\u001b[0m\n\u001b[1;32m----> 1\u001b[0m name \u001b[38;5;241m=\u001b[39m soner\n",
      "\u001b[1;31mNameError\u001b[0m: name 'soner' is not defined"
     ]
    }
   ],
   "source": [
    "name = soner"
   ]
  },
  {
   "cell_type": "code",
   "execution_count": 6,
   "id": "cad70fd7-58ca-4286-8a06-b8f8d021e0b5",
   "metadata": {
    "tags": []
   },
   "outputs": [],
   "source": [
    "name = \"soner\""
   ]
  },
  {
   "cell_type": "code",
   "execution_count": 7,
   "id": "98514b0d-bb59-4e6b-9a3b-3fa7f27a7f2e",
   "metadata": {
    "tags": []
   },
   "outputs": [
    {
     "data": {
      "text/plain": [
       "str"
      ]
     },
     "execution_count": 7,
     "metadata": {},
     "output_type": "execute_result"
    }
   ],
   "source": [
    "type(name)"
   ]
  },
  {
   "cell_type": "code",
   "execution_count": 8,
   "id": "d167d113-f6b8-4566-8157-df69a0808cd2",
   "metadata": {
    "tags": []
   },
   "outputs": [
    {
     "ename": "SyntaxError",
     "evalue": "invalid syntax (3902239296.py, line 1)",
     "output_type": "error",
     "traceback": [
      "\u001b[1;36m  Cell \u001b[1;32mIn[8], line 1\u001b[1;36m\u001b[0m\n\u001b[1;33m    name \"sonerA1\" \"github\"\u001b[0m\n\u001b[1;37m         ^\u001b[0m\n\u001b[1;31mSyntaxError\u001b[0m\u001b[1;31m:\u001b[0m invalid syntax\n"
     ]
    }
   ],
   "source": [
    "name \"sonerA1\" \"github\""
   ]
  },
  {
   "cell_type": "code",
   "execution_count": 9,
   "id": "53eb4a2b-645e-437b-b4eb-c0bf38cb2fb2",
   "metadata": {
    "tags": []
   },
   "outputs": [],
   "source": [
    "name = \"soner\""
   ]
  },
  {
   "cell_type": "code",
   "execution_count": 10,
   "id": "c8e0ef37-a509-49a9-850a-a4efe596ce49",
   "metadata": {
    "tags": []
   },
   "outputs": [
    {
     "data": {
      "text/plain": [
       "str"
      ]
     },
     "execution_count": 10,
     "metadata": {},
     "output_type": "execute_result"
    }
   ],
   "source": [
    "type(name)"
   ]
  },
  {
   "cell_type": "code",
   "execution_count": 11,
   "id": "453ec1ba-a601-4501-a6bf-22bb7a191987",
   "metadata": {
    "tags": []
   },
   "outputs": [
    {
     "ename": "SyntaxError",
     "evalue": "invalid syntax (3209991573.py, line 1)",
     "output_type": "error",
     "traceback": [
      "\u001b[1;36m  Cell \u001b[1;32mIn[11], line 1\u001b[1;36m\u001b[0m\n\u001b[1;33m    name.\u001b[0m\n\u001b[1;37m         ^\u001b[0m\n\u001b[1;31mSyntaxError\u001b[0m\u001b[1;31m:\u001b[0m invalid syntax\n"
     ]
    }
   ],
   "source": [
    "name."
   ]
  },
  {
   "cell_type": "code",
   "execution_count": 13,
   "id": "0e2e27ef-516b-4824-a70f-ba0dab5e94cf",
   "metadata": {
    "tags": []
   },
   "outputs": [
    {
     "data": {
      "text/plain": [
       "'Soner'"
      ]
     },
     "execution_count": 13,
     "metadata": {},
     "output_type": "execute_result"
    }
   ],
   "source": [
    "name.capitalize() #İlk harfi büyük harf yapma"
   ]
  },
  {
   "cell_type": "code",
   "execution_count": 16,
   "id": "5de74325-e006-464c-86d9-9eb06f6225f3",
   "metadata": {
    "tags": []
   },
   "outputs": [
    {
     "name": "stdout",
     "output_type": "stream",
     "text": [
      "Help on built-in function count:\n",
      "\n",
      "count(...) method of builtins.str instance\n",
      "    S.count(sub[, start[, end]]) -> int\n",
      "    \n",
      "    Return the number of non-overlapping occurrences of substring sub in\n",
      "    string S[start:end].  Optional arguments start and end are\n",
      "    interpreted as in slice notation.\n",
      "\n"
     ]
    }
   ],
   "source": [
    "help(name.count)"
   ]
  },
  {
   "cell_type": "code",
   "execution_count": 17,
   "id": "6ef65759-2593-47af-afd1-6400382c042c",
   "metadata": {
    "tags": []
   },
   "outputs": [
    {
     "name": "stdout",
     "output_type": "stream",
     "text": [
      "Help on built-in function capitalize:\n",
      "\n",
      "capitalize() method of builtins.str instance\n",
      "    Return a capitalized version of the string.\n",
      "    \n",
      "    More specifically, make the first character have upper case and the rest lower\n",
      "    case.\n",
      "\n"
     ]
    }
   ],
   "source": [
    "help(name.capitalize)"
   ]
  },
  {
   "cell_type": "code",
   "execution_count": 19,
   "id": "a8304375-07cf-418e-b751-a8c5bc2df40c",
   "metadata": {
    "tags": []
   },
   "outputs": [
    {
     "data": {
      "text/plain": [
       "0"
      ]
     },
     "execution_count": 19,
     "metadata": {},
     "output_type": "execute_result"
    }
   ],
   "source": [
    "name.count(\"a\") # içinde kaç tane a harfi var gibi gibi saydırıyor"
   ]
  },
  {
   "cell_type": "code",
   "execution_count": 20,
   "id": "f0c40ae5-b730-43b4-9433-bd2dfaf8f880",
   "metadata": {
    "tags": []
   },
   "outputs": [
    {
     "data": {
      "text/plain": [
       "'SONER'"
      ]
     },
     "execution_count": 20,
     "metadata": {},
     "output_type": "execute_result"
    }
   ],
   "source": [
    "name.upper() # bütün harfleri büyük harf yapar"
   ]
  },
  {
   "cell_type": "code",
   "execution_count": 21,
   "id": "fbbddea4-c4ab-4a6b-9659-7f1a04b531bc",
   "metadata": {
    "tags": []
   },
   "outputs": [
    {
     "data": {
      "text/plain": [
       "'soner'"
      ]
     },
     "execution_count": 21,
     "metadata": {},
     "output_type": "execute_result"
    }
   ],
   "source": [
    "name"
   ]
  },
  {
   "cell_type": "code",
   "execution_count": 22,
   "id": "12c9c658-e354-4162-a7c5-b5f1b01cd531",
   "metadata": {
    "tags": []
   },
   "outputs": [],
   "source": [
    "x = 10\n",
    "y = 5"
   ]
  },
  {
   "cell_type": "code",
   "execution_count": 23,
   "id": "64ec90ea-a412-477c-a812-424f80e6bbf7",
   "metadata": {
    "tags": []
   },
   "outputs": [
    {
     "data": {
      "text/plain": [
       "15"
      ]
     },
     "execution_count": 23,
     "metadata": {},
     "output_type": "execute_result"
    }
   ],
   "source": [
    "x + y "
   ]
  },
  {
   "cell_type": "code",
   "execution_count": 27,
   "id": "3fc08a7c-8b23-4708-bce8-cffa106419f3",
   "metadata": {
    "tags": []
   },
   "outputs": [],
   "source": [
    "z = x + y "
   ]
  },
  {
   "cell_type": "code",
   "execution_count": 28,
   "id": "5838eaba-3151-4717-b62e-5b8cb67e99b2",
   "metadata": {
    "tags": []
   },
   "outputs": [
    {
     "data": {
      "text/plain": [
       "15"
      ]
     },
     "execution_count": 28,
     "metadata": {},
     "output_type": "execute_result"
    }
   ],
   "source": [
    "z "
   ]
  },
  {
   "cell_type": "code",
   "execution_count": 29,
   "id": "f06c1c3e-2b16-40c6-9310-ad64b163517c",
   "metadata": {
    "tags": []
   },
   "outputs": [
    {
     "data": {
      "text/plain": [
       "'soner'"
      ]
     },
     "execution_count": 29,
     "metadata": {},
     "output_type": "execute_result"
    }
   ],
   "source": [
    "name"
   ]
  },
  {
   "cell_type": "code",
   "execution_count": 30,
   "id": "bab159c1-e1fa-4ea4-a399-6b75030f92ee",
   "metadata": {
    "tags": []
   },
   "outputs": [],
   "source": [
    "nameUpper = name.upper()"
   ]
  },
  {
   "cell_type": "code",
   "execution_count": 31,
   "id": "13afb5fe-a274-4b10-9080-5d3d89366d9a",
   "metadata": {
    "tags": []
   },
   "outputs": [
    {
     "data": {
      "text/plain": [
       "'SONER'"
      ]
     },
     "execution_count": 31,
     "metadata": {},
     "output_type": "execute_result"
    }
   ],
   "source": [
    "nameUpper"
   ]
  },
  {
   "cell_type": "code",
   "execution_count": 32,
   "id": "df126e1d-8af5-411c-b1a6-420cec9a94a3",
   "metadata": {
    "tags": []
   },
   "outputs": [
    {
     "data": {
      "text/plain": [
       "'soner'"
      ]
     },
     "execution_count": 32,
     "metadata": {},
     "output_type": "execute_result"
    }
   ],
   "source": [
    "name"
   ]
  },
  {
   "cell_type": "code",
   "execution_count": 34,
   "id": "a0356e00-23b0-468e-8642-c058531fee47",
   "metadata": {
    "tags": []
   },
   "outputs": [
    {
     "name": "stdout",
     "output_type": "stream",
     "text": [
      "SONER\n"
     ]
    }
   ],
   "source": [
    "print(name.upper())"
   ]
  },
  {
   "cell_type": "code",
   "execution_count": 36,
   "id": "49b736a3-67b9-4f3e-a5e4-8fcbf47771af",
   "metadata": {
    "tags": []
   },
   "outputs": [
    {
     "data": {
      "text/plain": [
       "5"
      ]
     },
     "execution_count": 36,
     "metadata": {},
     "output_type": "execute_result"
    }
   ],
   "source": [
    "len(name) #verilen stringin uzunluğunu gösterir"
   ]
  },
  {
   "cell_type": "code",
   "execution_count": 37,
   "id": "320682df-f0c0-40f5-8bc6-bd83b43b77a7",
   "metadata": {
    "tags": []
   },
   "outputs": [
    {
     "name": "stdout",
     "output_type": "stream",
     "text": [
      "soner A1\n"
     ]
    }
   ],
   "source": [
    "print(\"soner A1\")"
   ]
  },
  {
   "cell_type": "code",
   "execution_count": 38,
   "id": "2f4e40e9-3262-4e79-a01c-7854f1c2403f",
   "metadata": {
    "tags": []
   },
   "outputs": [
    {
     "name": "stdout",
     "output_type": "stream",
     "text": [
      "soner \n",
      "A1\n"
     ]
    }
   ],
   "source": [
    "print(\"soner \\nA1\")"
   ]
  },
  {
   "cell_type": "code",
   "execution_count": 39,
   "id": "4445c9e0-85bc-4573-9694-6fa7c99d7622",
   "metadata": {
    "tags": []
   },
   "outputs": [],
   "source": [
    "#\\n new line"
   ]
  },
  {
   "cell_type": "code",
   "execution_count": 40,
   "id": "11e83dbf-ccec-418a-b15b-fd2ae5f6798f",
   "metadata": {
    "tags": []
   },
   "outputs": [],
   "source": [
    "###### INDEX  #####"
   ]
  },
  {
   "cell_type": "code",
   "execution_count": 41,
   "id": "868a384f-6812-4771-a172-61b37412b583",
   "metadata": {
    "tags": []
   },
   "outputs": [],
   "source": [
    "myString = \"hello python\""
   ]
  },
  {
   "cell_type": "code",
   "execution_count": 42,
   "id": "ed5ed660-43a1-469b-8461-2545c4d79eec",
   "metadata": {
    "tags": []
   },
   "outputs": [
    {
     "data": {
      "text/plain": [
       "'o'"
      ]
     },
     "execution_count": 42,
     "metadata": {},
     "output_type": "execute_result"
    }
   ],
   "source": [
    "myString[4]"
   ]
  },
  {
   "cell_type": "code",
   "execution_count": 43,
   "id": "58c99bae-9c83-436f-b6ff-8061ce6a5869",
   "metadata": {
    "tags": []
   },
   "outputs": [
    {
     "data": {
      "text/plain": [
       "'o'"
      ]
     },
     "execution_count": 43,
     "metadata": {},
     "output_type": "execute_result"
    }
   ],
   "source": [
    "myString[4]"
   ]
  },
  {
   "cell_type": "code",
   "execution_count": 44,
   "id": "0dd54aaf-baec-457c-bedb-11f04dec2629",
   "metadata": {
    "tags": []
   },
   "outputs": [
    {
     "data": {
      "text/plain": [
       "'e'"
      ]
     },
     "execution_count": 44,
     "metadata": {},
     "output_type": "execute_result"
    }
   ],
   "source": [
    "myString[1]"
   ]
  },
  {
   "cell_type": "code",
   "execution_count": 45,
   "id": "9f246e8e-55fd-4596-bfc9-5e5f904dcfa9",
   "metadata": {
    "tags": []
   },
   "outputs": [
    {
     "data": {
      "text/plain": [
       "'h'"
      ]
     },
     "execution_count": 45,
     "metadata": {},
     "output_type": "execute_result"
    }
   ],
   "source": [
    "myString[0]"
   ]
  },
  {
   "cell_type": "code",
   "execution_count": 46,
   "id": "23c74bc3-3bc9-45b5-af96-a0c584302f50",
   "metadata": {
    "tags": []
   },
   "outputs": [
    {
     "data": {
      "text/plain": [
       "'n'"
      ]
     },
     "execution_count": 46,
     "metadata": {},
     "output_type": "execute_result"
    }
   ],
   "source": [
    "myString[-1] # son karakteri verir"
   ]
  },
  {
   "cell_type": "code",
   "execution_count": 47,
   "id": "15c0e88f-08b4-408c-962c-c412c6a33b7b",
   "metadata": {
    "tags": []
   },
   "outputs": [
    {
     "data": {
      "text/plain": [
       "'o'"
      ]
     },
     "execution_count": 47,
     "metadata": {},
     "output_type": "execute_result"
    }
   ],
   "source": [
    "myString[-2]"
   ]
  },
  {
   "cell_type": "code",
   "execution_count": 49,
   "id": "bc73eaf3-34dd-4aa2-8028-e8e78e2bb72a",
   "metadata": {
    "tags": []
   },
   "outputs": [],
   "source": [
    "barcode = \"ABCDE123456789\""
   ]
  },
  {
   "cell_type": "code",
   "execution_count": 50,
   "id": "ea3f50b3-4a6f-4ac2-9595-ba2e5410c37b",
   "metadata": {
    "tags": []
   },
   "outputs": [
    {
     "data": {
      "text/plain": [
       "'A'"
      ]
     },
     "execution_count": 50,
     "metadata": {},
     "output_type": "execute_result"
    }
   ],
   "source": [
    "barcode[0]"
   ]
  },
  {
   "cell_type": "code",
   "execution_count": 51,
   "id": "85a83d98-2b19-41d4-85ac-9132e9f22dfb",
   "metadata": {
    "tags": []
   },
   "outputs": [
    {
     "data": {
      "text/plain": [
       "'B'"
      ]
     },
     "execution_count": 51,
     "metadata": {},
     "output_type": "execute_result"
    }
   ],
   "source": [
    "barcode[1]"
   ]
  },
  {
   "cell_type": "code",
   "execution_count": 52,
   "id": "b8bc28d9-7265-40dc-90ea-6310b8786a8d",
   "metadata": {
    "tags": []
   },
   "outputs": [],
   "source": [
    "name = \"soner\""
   ]
  },
  {
   "cell_type": "code",
   "execution_count": 53,
   "id": "9c4cf7cf-47ba-4a8c-bf8e-9961704ce226",
   "metadata": {
    "tags": []
   },
   "outputs": [],
   "source": [
    "surname = \"A1\""
   ]
  },
  {
   "cell_type": "code",
   "execution_count": 54,
   "id": "028bab84-e2ef-436a-9242-8602dd522dff",
   "metadata": {
    "tags": []
   },
   "outputs": [
    {
     "ename": "SyntaxError",
     "evalue": "invalid syntax (2295980454.py, line 1)",
     "output_type": "error",
     "traceback": [
      "\u001b[1;36m  Cell \u001b[1;32mIn[54], line 1\u001b[1;36m\u001b[0m\n\u001b[1;33m    full name = name + surname\u001b[0m\n\u001b[1;37m         ^\u001b[0m\n\u001b[1;31mSyntaxError\u001b[0m\u001b[1;31m:\u001b[0m invalid syntax\n"
     ]
    }
   ],
   "source": [
    "full name = name + surname"
   ]
  },
  {
   "cell_type": "code",
   "execution_count": 55,
   "id": "5357429f-0300-47a6-9349-1c5a9417f015",
   "metadata": {
    "tags": []
   },
   "outputs": [],
   "source": [
    "fullname = name + surname"
   ]
  },
  {
   "cell_type": "code",
   "execution_count": 56,
   "id": "51f9958a-3788-4f10-90c5-787f90b22370",
   "metadata": {
    "tags": []
   },
   "outputs": [
    {
     "data": {
      "text/plain": [
       "'sonerA1'"
      ]
     },
     "execution_count": 56,
     "metadata": {},
     "output_type": "execute_result"
    }
   ],
   "source": [
    "fullname"
   ]
  },
  {
   "cell_type": "code",
   "execution_count": 57,
   "id": "8163fb8e-4804-482a-a97e-97c950998617",
   "metadata": {
    "tags": []
   },
   "outputs": [
    {
     "data": {
      "text/plain": [
       "'sonersonersonersonersoner'"
      ]
     },
     "execution_count": 57,
     "metadata": {},
     "output_type": "execute_result"
    }
   ],
   "source": [
    "name * 5"
   ]
  },
  {
   "cell_type": "code",
   "execution_count": 58,
   "id": "61c5b7c4-ba61-4bbf-9d37-ec9fefc498b5",
   "metadata": {
    "tags": []
   },
   "outputs": [
    {
     "data": {
      "text/plain": [
       "'aaaaaaaaaa'"
      ]
     },
     "execution_count": 58,
     "metadata": {},
     "output_type": "execute_result"
    }
   ],
   "source": [
    "10 * \"a\""
   ]
  },
  {
   "cell_type": "code",
   "execution_count": 59,
   "id": "aba8ee64-d4fe-4923-a287-1f2b3cabb987",
   "metadata": {
    "tags": []
   },
   "outputs": [
    {
     "data": {
      "text/plain": [
       "'ABC'"
      ]
     },
     "execution_count": 59,
     "metadata": {},
     "output_type": "execute_result"
    }
   ],
   "source": [
    "barcode[0] + barcode[1] + barcode[2]"
   ]
  },
  {
   "cell_type": "code",
   "execution_count": 60,
   "id": "00af4e2b-a3c6-4ada-9500-82e76b4734a9",
   "metadata": {
    "tags": []
   },
   "outputs": [],
   "source": [
    "# SLICING - STARTING INDEX - STOPPING INDEX - STEPPING SIZE "
   ]
  },
  {
   "cell_type": "code",
   "execution_count": 61,
   "id": "71dde713-90a4-46cd-aad0-ad0c4077d103",
   "metadata": {
    "tags": []
   },
   "outputs": [
    {
     "data": {
      "text/plain": [
       "'ABCDE123456789'"
      ]
     },
     "execution_count": 61,
     "metadata": {},
     "output_type": "execute_result"
    }
   ],
   "source": [
    "barcode"
   ]
  },
  {
   "cell_type": "code",
   "execution_count": 62,
   "id": "b3206da1-9e0c-4ed0-a17b-4b9655c586ca",
   "metadata": {
    "tags": []
   },
   "outputs": [
    {
     "data": {
      "text/plain": [
       "'ABCDE123456789'"
      ]
     },
     "execution_count": 62,
     "metadata": {},
     "output_type": "execute_result"
    }
   ],
   "source": [
    "barcode[::]"
   ]
  },
  {
   "cell_type": "code",
   "execution_count": 63,
   "id": "ef6f61db-8962-4d5e-adbd-5a6b7315b9cf",
   "metadata": {
    "tags": []
   },
   "outputs": [],
   "source": [
    "#barcode[# starting index:stoping index:stepping size]"
   ]
  },
  {
   "cell_type": "code",
   "execution_count": 64,
   "id": "9db2f575-0888-48c9-9af0-1af8b03f655d",
   "metadata": {
    "tags": []
   },
   "outputs": [
    {
     "data": {
      "text/plain": [
       "'DE123456789'"
      ]
     },
     "execution_count": 64,
     "metadata": {},
     "output_type": "execute_result"
    }
   ],
   "source": [
    "barcode[3::]"
   ]
  },
  {
   "cell_type": "code",
   "execution_count": 65,
   "id": "00147027-bdb2-41e3-b318-31cfb36d5abd",
   "metadata": {
    "tags": []
   },
   "outputs": [
    {
     "data": {
      "text/plain": [
       "'ABC'"
      ]
     },
     "execution_count": 65,
     "metadata": {},
     "output_type": "execute_result"
    }
   ],
   "source": [
    "barcode[:3:]"
   ]
  },
  {
   "cell_type": "code",
   "execution_count": 66,
   "id": "fee54bfe-1d5f-4718-9f02-a5fa3ef716d3",
   "metadata": {
    "tags": []
   },
   "outputs": [
    {
     "data": {
      "text/plain": [
       "'ABCDE'"
      ]
     },
     "execution_count": 66,
     "metadata": {},
     "output_type": "execute_result"
    }
   ],
   "source": [
    "barcode[:5:]"
   ]
  },
  {
   "cell_type": "code",
   "execution_count": 67,
   "id": "588a11e9-207e-413a-bbf9-e2104874d1ff",
   "metadata": {
    "tags": []
   },
   "outputs": [
    {
     "data": {
      "text/plain": [
       "'ABCDE123456789'"
      ]
     },
     "execution_count": 67,
     "metadata": {},
     "output_type": "execute_result"
    }
   ],
   "source": [
    "barcode[::]"
   ]
  },
  {
   "cell_type": "code",
   "execution_count": 68,
   "id": "103a9b0f-ff17-43bd-9bf2-98feb609fdf0",
   "metadata": {
    "tags": []
   },
   "outputs": [
    {
     "data": {
      "text/plain": [
       "'E123456789'"
      ]
     },
     "execution_count": 68,
     "metadata": {},
     "output_type": "execute_result"
    }
   ],
   "source": [
    "barcode[4::]"
   ]
  },
  {
   "cell_type": "code",
   "execution_count": 69,
   "id": "483102f2-a7fa-4f78-9052-f3b08687e2ac",
   "metadata": {
    "tags": []
   },
   "outputs": [
    {
     "data": {
      "text/plain": [
       "'ABCDE'"
      ]
     },
     "execution_count": 69,
     "metadata": {},
     "output_type": "execute_result"
    }
   ],
   "source": [
    "barcode[:5:]"
   ]
  },
  {
   "cell_type": "code",
   "execution_count": 70,
   "id": "ab748f00-00e4-45d6-b23d-bbbbba7b929f",
   "metadata": {
    "tags": []
   },
   "outputs": [
    {
     "data": {
      "text/plain": [
       "'ACE2468'"
      ]
     },
     "execution_count": 70,
     "metadata": {},
     "output_type": "execute_result"
    }
   ],
   "source": [
    "barcode[::2]"
   ]
  },
  {
   "cell_type": "code",
   "execution_count": 71,
   "id": "7c7c95d2-915f-4f81-8440-2d8a0d54b451",
   "metadata": {
    "tags": []
   },
   "outputs": [
    {
     "data": {
      "text/plain": [
       "'AD258'"
      ]
     },
     "execution_count": 71,
     "metadata": {},
     "output_type": "execute_result"
    }
   ],
   "source": [
    "barcode[::3]"
   ]
  },
  {
   "cell_type": "code",
   "execution_count": 72,
   "id": "4eeed966-8586-4c3d-a9f3-0e8a78dff376",
   "metadata": {
    "tags": []
   },
   "outputs": [
    {
     "data": {
      "text/plain": [
       "'ABCDE123456789'"
      ]
     },
     "execution_count": 72,
     "metadata": {},
     "output_type": "execute_result"
    }
   ],
   "source": [
    "barcode[::]"
   ]
  },
  {
   "cell_type": "code",
   "execution_count": 73,
   "id": "538d2071-b275-4303-af7b-43b624982559",
   "metadata": {
    "tags": []
   },
   "outputs": [
    {
     "data": {
      "text/plain": [
       "'DE123456789'"
      ]
     },
     "execution_count": 73,
     "metadata": {},
     "output_type": "execute_result"
    }
   ],
   "source": [
    "barcode[3::]"
   ]
  },
  {
   "cell_type": "code",
   "execution_count": 74,
   "id": "dd5b8572-230c-40f4-8dc6-600250ec22b8",
   "metadata": {
    "tags": []
   },
   "outputs": [
    {
     "data": {
      "text/plain": [
       "'DE'"
      ]
     },
     "execution_count": 74,
     "metadata": {},
     "output_type": "execute_result"
    }
   ],
   "source": [
    "barcode[3:5:]"
   ]
  },
  {
   "cell_type": "code",
   "execution_count": 77,
   "id": "c8f381e0-a10f-49f3-a8c2-9eeef11cd8d2",
   "metadata": {
    "tags": []
   },
   "outputs": [
    {
     "data": {
      "text/plain": [
       "'DE'"
      ]
     },
     "execution_count": 77,
     "metadata": {},
     "output_type": "execute_result"
    }
   ],
   "source": [
    "barcode[3:5]"
   ]
  },
  {
   "cell_type": "code",
   "execution_count": null,
   "id": "141bbf41-90fb-4b8f-89d7-130b421b3040",
   "metadata": {},
   "outputs": [],
   "source": []
  }
 ],
 "metadata": {
  "kernelspec": {
   "display_name": "Python 3 (ipykernel)",
   "language": "python",
   "name": "python3"
  },
  "language_info": {
   "codemirror_mode": {
    "name": "ipython",
    "version": 3
   },
   "file_extension": ".py",
   "mimetype": "text/x-python",
   "name": "python",
   "nbconvert_exporter": "python",
   "pygments_lexer": "ipython3",
   "version": "3.11.4"
  }
 },
 "nbformat": 4,
 "nbformat_minor": 5
}
