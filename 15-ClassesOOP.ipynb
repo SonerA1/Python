{
 "cells": [
  {
   "cell_type": "code",
   "execution_count": 1,
   "id": "294fc167-c12a-47e1-9cb2-fe3d84cd9aed",
   "metadata": {
    "tags": []
   },
   "outputs": [],
   "source": [
    "#---OOP-------"
   ]
  },
  {
   "cell_type": "code",
   "execution_count": 2,
   "id": "f3b8ea11-6dde-4c3e-a6a5-bcd0bb91692a",
   "metadata": {
    "tags": []
   },
   "outputs": [],
   "source": [
    "sonerName = \"Soner\""
   ]
  },
  {
   "cell_type": "code",
   "execution_count": 3,
   "id": "879fdd78-e3a1-47b1-87a4-c16ab13d0f2a",
   "metadata": {
    "tags": []
   },
   "outputs": [],
   "source": [
    "sonerAge = 90"
   ]
  },
  {
   "cell_type": "code",
   "execution_count": 4,
   "id": "eee497d6-03c7-4b1b-88ff-d48601fd2665",
   "metadata": {
    "tags": []
   },
   "outputs": [],
   "source": [
    "sonerGender = \"male\""
   ]
  },
  {
   "cell_type": "code",
   "execution_count": 5,
   "id": "c7c1d0dd-6f2a-486c-a36f-fde31198e092",
   "metadata": {
    "tags": []
   },
   "outputs": [],
   "source": [
    "mikeName = \"mike\""
   ]
  },
  {
   "cell_type": "code",
   "execution_count": 6,
   "id": "eda6281c-2e96-40de-86fb-bd34b460cdce",
   "metadata": {
    "tags": []
   },
   "outputs": [],
   "source": [
    "mikeAge= 20"
   ]
  },
  {
   "cell_type": "code",
   "execution_count": 7,
   "id": "ddab61d1-754d-46ac-b42c-ce23365770bd",
   "metadata": {
    "tags": []
   },
   "outputs": [],
   "source": [
    "mikeGender = \"male\""
   ]
  },
  {
   "cell_type": "code",
   "execution_count": 8,
   "id": "6823c806-3fcb-4908-ac55-eaaf22821918",
   "metadata": {
    "tags": []
   },
   "outputs": [],
   "source": [
    "class Person():\n",
    "    pass"
   ]
  },
  {
   "cell_type": "code",
   "execution_count": 53,
   "id": "07e262dd-68fd-4501-8f90-56f65cdf66c8",
   "metadata": {
    "tags": []
   },
   "outputs": [],
   "source": [
    "class Person():\n",
    "    #property\n",
    "    #name = \"\"\n",
    "    #age = 0\n",
    "    #gender = \"\" no need \n",
    "    job = \"\"\n",
    "    \n",
    "    #methot, initializer\n",
    "    def __init__(self,name,age,gender):\n",
    "        self.name = name\n",
    "        self.age = age\n",
    "        self.gender = gender        "
   ]
  },
  {
   "cell_type": "code",
   "execution_count": 54,
   "id": "eef2e598-5a0d-49e2-b5a3-1e86b6488bc7",
   "metadata": {
    "tags": []
   },
   "outputs": [],
   "source": [
    "mike = Person(\"mike\",35,\"male\")"
   ]
  },
  {
   "cell_type": "code",
   "execution_count": 55,
   "id": "96df1876-ef1d-4629-861a-d6959c428733",
   "metadata": {
    "tags": []
   },
   "outputs": [
    {
     "data": {
      "text/plain": [
       "__main__.Person"
      ]
     },
     "execution_count": 55,
     "metadata": {},
     "output_type": "execute_result"
    }
   ],
   "source": [
    "type(mike)"
   ]
  },
  {
   "cell_type": "code",
   "execution_count": 56,
   "id": "4031610a-01e8-40ab-a140-def0d6d0fe8f",
   "metadata": {
    "tags": []
   },
   "outputs": [
    {
     "data": {
      "text/plain": [
       "'mike'"
      ]
     },
     "execution_count": 56,
     "metadata": {},
     "output_type": "execute_result"
    }
   ],
   "source": [
    "mike.name"
   ]
  },
  {
   "cell_type": "code",
   "execution_count": 57,
   "id": "cdcbf867-5e19-4a69-a063-0f41e2e31f5b",
   "metadata": {
    "tags": []
   },
   "outputs": [
    {
     "data": {
      "text/plain": [
       "35"
      ]
     },
     "execution_count": 57,
     "metadata": {},
     "output_type": "execute_result"
    }
   ],
   "source": [
    "mike.age"
   ]
  },
  {
   "cell_type": "code",
   "execution_count": 58,
   "id": "9ed94493-e87b-4af0-8a64-bd2ec1e321ef",
   "metadata": {
    "tags": []
   },
   "outputs": [
    {
     "data": {
      "text/plain": [
       "'male'"
      ]
     },
     "execution_count": 58,
     "metadata": {},
     "output_type": "execute_result"
    }
   ],
   "source": [
    "mike.gender"
   ]
  },
  {
   "cell_type": "code",
   "execution_count": 59,
   "id": "12218775-ccce-4c97-b775-64edecf5cabe",
   "metadata": {
    "tags": []
   },
   "outputs": [
    {
     "data": {
      "text/plain": [
       "'mike'"
      ]
     },
     "execution_count": 59,
     "metadata": {},
     "output_type": "execute_result"
    }
   ],
   "source": [
    "mike.name"
   ]
  },
  {
   "cell_type": "code",
   "execution_count": 61,
   "id": "f3c67190-9b6d-4cb4-8caa-7c69f095ce02",
   "metadata": {
    "tags": []
   },
   "outputs": [],
   "source": [
    "mike.job = \"Developer\""
   ]
  },
  {
   "cell_type": "code",
   "execution_count": 62,
   "id": "55d2a36f-2d67-456c-8012-053b2e3f171b",
   "metadata": {
    "tags": []
   },
   "outputs": [
    {
     "data": {
      "text/plain": [
       "'Developer'"
      ]
     },
     "execution_count": 62,
     "metadata": {},
     "output_type": "execute_result"
    }
   ],
   "source": [
    "mike.job"
   ]
  },
  {
   "cell_type": "code",
   "execution_count": 63,
   "id": "bdb979df-d983-4685-96fd-17d192f37d64",
   "metadata": {
    "tags": []
   },
   "outputs": [],
   "source": [
    "# ---Class example --"
   ]
  },
  {
   "cell_type": "code",
   "execution_count": 91,
   "id": "0578b5d8-3f84-4c34-9236-78e1ab869009",
   "metadata": {
    "tags": []
   },
   "outputs": [],
   "source": [
    "class Dog():\n",
    "   \n",
    "    year = 7\n",
    "    \n",
    "    def __init__(self,age):\n",
    "        self.age = age\n",
    "        self.dogHuman = age *self.year\n",
    "    \n",
    "    def humanAge(self):\n",
    "        return self.age * self.year # or Dog.year    "
   ]
  },
  {
   "cell_type": "code",
   "execution_count": 92,
   "id": "b7ab5d73-5b63-4325-87be-e62ca74f7fee",
   "metadata": {
    "tags": []
   },
   "outputs": [],
   "source": [
    "myDog = Dog(3)"
   ]
  },
  {
   "cell_type": "code",
   "execution_count": 93,
   "id": "ce2fdeea-694f-42f9-9f70-29f6b74986f0",
   "metadata": {
    "tags": []
   },
   "outputs": [
    {
     "data": {
      "text/plain": [
       "3"
      ]
     },
     "execution_count": 93,
     "metadata": {},
     "output_type": "execute_result"
    }
   ],
   "source": [
    "myDog.age"
   ]
  },
  {
   "cell_type": "code",
   "execution_count": 94,
   "id": "725016f5-d206-49a1-a709-b8fb681dae36",
   "metadata": {
    "tags": []
   },
   "outputs": [
    {
     "data": {
      "text/plain": [
       "21"
      ]
     },
     "execution_count": 94,
     "metadata": {},
     "output_type": "execute_result"
    }
   ],
   "source": [
    "myDog.humanAge()"
   ]
  },
  {
   "cell_type": "code",
   "execution_count": 95,
   "id": "03b4b93e-fb41-4b10-b9ca-5758e546affd",
   "metadata": {
    "tags": []
   },
   "outputs": [
    {
     "data": {
      "text/plain": [
       "21"
      ]
     },
     "execution_count": 95,
     "metadata": {},
     "output_type": "execute_result"
    }
   ],
   "source": [
    "myDog.dogHuman"
   ]
  },
  {
   "cell_type": "code",
   "execution_count": null,
   "id": "393de343-e916-4656-a2bf-3fcd21558fd8",
   "metadata": {},
   "outputs": [],
   "source": []
  }
 ],
 "metadata": {
  "kernelspec": {
   "display_name": "Python 3 (ipykernel)",
   "language": "python",
   "name": "python3"
  },
  "language_info": {
   "codemirror_mode": {
    "name": "ipython",
    "version": 3
   },
   "file_extension": ".py",
   "mimetype": "text/x-python",
   "name": "python",
   "nbconvert_exporter": "python",
   "pygments_lexer": "ipython3",
   "version": "3.11.4"
  }
 },
 "nbformat": 4,
 "nbformat_minor": 5
}
