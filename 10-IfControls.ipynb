{
 "cells": [
  {
   "cell_type": "code",
   "execution_count": 2,
   "id": "489efccc-6ee4-4f21-9b78-208b60dc9453",
   "metadata": {
    "tags": []
   },
   "outputs": [],
   "source": [
    "x= 5\n",
    "y = 2"
   ]
  },
  {
   "cell_type": "code",
   "execution_count": 3,
   "id": "699610bc-eaea-4a5b-8f12-866439a24e9a",
   "metadata": {
    "tags": []
   },
   "outputs": [
    {
     "data": {
      "text/plain": [
       "True"
      ]
     },
     "execution_count": 3,
     "metadata": {},
     "output_type": "execute_result"
    }
   ],
   "source": [
    "x > y"
   ]
  },
  {
   "cell_type": "code",
   "execution_count": 4,
   "id": "350b15d1-4d02-4754-b029-fb28e7129fd9",
   "metadata": {
    "tags": []
   },
   "outputs": [
    {
     "data": {
      "text/plain": [
       "False"
      ]
     },
     "execution_count": 4,
     "metadata": {},
     "output_type": "execute_result"
    }
   ],
   "source": [
    "x<y"
   ]
  },
  {
   "cell_type": "code",
   "execution_count": 5,
   "id": "3cd3fd6b-9346-418c-bec0-2a5a3e789453",
   "metadata": {
    "tags": []
   },
   "outputs": [
    {
     "data": {
      "text/plain": [
       "False"
      ]
     },
     "execution_count": 5,
     "metadata": {},
     "output_type": "execute_result"
    }
   ],
   "source": [
    "x >= y\n",
    "x <= y"
   ]
  },
  {
   "cell_type": "code",
   "execution_count": 6,
   "id": "bdfc0073-e1b9-4dea-9d04-f5db526b2c6e",
   "metadata": {
    "tags": []
   },
   "outputs": [
    {
     "data": {
      "text/plain": [
       "False"
      ]
     },
     "execution_count": 6,
     "metadata": {},
     "output_type": "execute_result"
    }
   ],
   "source": [
    "x == y"
   ]
  },
  {
   "cell_type": "code",
   "execution_count": 7,
   "id": "7361141d-5e83-4d19-9e6a-4f23f38f6276",
   "metadata": {
    "tags": []
   },
   "outputs": [
    {
     "data": {
      "text/plain": [
       "True"
      ]
     },
     "execution_count": 7,
     "metadata": {},
     "output_type": "execute_result"
    }
   ],
   "source": [
    "x != y"
   ]
  },
  {
   "cell_type": "code",
   "execution_count": 9,
   "id": "9bc8f371-8f2a-4ce6-9e66-3d7f7070d799",
   "metadata": {
    "tags": []
   },
   "outputs": [
    {
     "data": {
      "text/plain": [
       "True"
      ]
     },
     "execution_count": 9,
     "metadata": {},
     "output_type": "execute_result"
    }
   ],
   "source": [
    "2 > 1 and 3> 2"
   ]
  },
  {
   "cell_type": "code",
   "execution_count": 10,
   "id": "532cf00a-2c2d-4dee-8048-0346902e0f54",
   "metadata": {
    "tags": []
   },
   "outputs": [
    {
     "data": {
      "text/plain": [
       "True"
      ]
     },
     "execution_count": 10,
     "metadata": {},
     "output_type": "execute_result"
    }
   ],
   "source": [
    "True and True"
   ]
  },
  {
   "cell_type": "code",
   "execution_count": 11,
   "id": "11454ea8-1d63-4e67-a614-305b75008660",
   "metadata": {
    "tags": []
   },
   "outputs": [
    {
     "data": {
      "text/plain": [
       "False"
      ]
     },
     "execution_count": 11,
     "metadata": {},
     "output_type": "execute_result"
    }
   ],
   "source": [
    "False and False "
   ]
  },
  {
   "cell_type": "code",
   "execution_count": 12,
   "id": "d9465c6c-737a-4dff-a118-6b336db7e3a8",
   "metadata": {
    "tags": []
   },
   "outputs": [
    {
     "data": {
      "text/plain": [
       "False"
      ]
     },
     "execution_count": 12,
     "metadata": {},
     "output_type": "execute_result"
    }
   ],
   "source": [
    "1 > 2 or 3 < 2"
   ]
  },
  {
   "cell_type": "code",
   "execution_count": 14,
   "id": "14efccbf-612e-462e-9f62-52ed2554fb76",
   "metadata": {
    "tags": []
   },
   "outputs": [
    {
     "data": {
      "text/plain": [
       "False"
      ]
     },
     "execution_count": 14,
     "metadata": {},
     "output_type": "execute_result"
    }
   ],
   "source": [
    "not 1 == 1"
   ]
  },
  {
   "cell_type": "code",
   "execution_count": 15,
   "id": "714fc09c-1a21-443a-8603-3c518061773d",
   "metadata": {
    "tags": []
   },
   "outputs": [],
   "source": [
    "# ------- IF Controls------------"
   ]
  },
  {
   "cell_type": "code",
   "execution_count": 2,
   "id": "1140063f-1a66-4248-ae44-f830f7de4a9a",
   "metadata": {
    "tags": []
   },
   "outputs": [],
   "source": [
    "my_hero1 = \"Batman\"\n",
    "my_hero2 = \"Superman\""
   ]
  },
  {
   "cell_type": "code",
   "execution_count": 17,
   "id": "a3dafbcb-1bd4-4a37-be1b-e67d92f4a98c",
   "metadata": {
    "tags": []
   },
   "outputs": [
    {
     "data": {
      "text/plain": [
       "True"
      ]
     },
     "execution_count": 17,
     "metadata": {},
     "output_type": "execute_result"
    }
   ],
   "source": [
    "my_hero == \"Batman\""
   ]
  },
  {
   "cell_type": "code",
   "execution_count": 18,
   "id": "7149a92a-d045-4eb9-a23e-aaf2f43a899b",
   "metadata": {
    "tags": []
   },
   "outputs": [
    {
     "name": "stdout",
     "output_type": "stream",
     "text": [
      "batman\n",
      "hello\n"
     ]
    }
   ],
   "source": [
    "if my_hero == \"Batman\":\n",
    "    #indentation\n",
    "    print(\"batman\")\n",
    "    print(\"hello\")"
   ]
  },
  {
   "cell_type": "code",
   "execution_count": 3,
   "id": "acd95b23-fa6e-4fa8-adac-9d85ac7148d5",
   "metadata": {},
   "outputs": [
    {
     "name": "stdout",
     "output_type": "stream",
     "text": [
      "enter superHero: Superman\n"
     ]
    }
   ],
   "source": [
    "my_hero = input(\"enter superHero: \")"
   ]
  },
  {
   "cell_type": "code",
   "execution_count": 5,
   "id": "59de4960",
   "metadata": {},
   "outputs": [
    {
     "name": "stdout",
     "output_type": "stream",
     "text": [
      "superman\n"
     ]
    }
   ],
   "source": [
    "if my_hero == \"Superman\":\n",
    "    print(\"superman\")\n",
    "elif my_hero == \"Batman\":\n",
    "    print(\"batman\")\n",
    "else:\n",
    "    print(\":(\")"
   ]
  },
  {
   "cell_type": "code",
   "execution_count": null,
   "id": "e06cb062",
   "metadata": {},
   "outputs": [],
   "source": []
  }
 ],
 "metadata": {
  "kernelspec": {
   "display_name": "Python 3 (ipykernel)",
   "language": "python",
   "name": "python3"
  },
  "language_info": {
   "codemirror_mode": {
    "name": "ipython",
    "version": 3
   },
   "file_extension": ".py",
   "mimetype": "text/x-python",
   "name": "python",
   "nbconvert_exporter": "python",
   "pygments_lexer": "ipython3",
   "version": "3.11.4"
  }
 },
 "nbformat": 4,
 "nbformat_minor": 5
}
